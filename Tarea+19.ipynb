{
 "cells": [
  {
   "cell_type": "markdown",
   "metadata": {},
   "source": [
    "__Ejercicio1__: Escriba la forma del operador laplaciano utilizando diferencias finitas simétricas. Es decir, discretice: $\\nabla^2=\\frac{\\partial^2 f}{\\partial x^2}+\\frac{\\partial^2 f}{\\partial y^2}+\\frac{\\partial^2 f}{\\partial z^2}$"
   ]
  },
  {
   "cell_type": "markdown",
   "metadata": {},
   "source": [
    "La derivada simétrica que ya hemos visto en otras tareas es:\n",
    "\n",
    "$$\\delta_{h}=\\frac{f(x+h)-f(x-h)}{2h}$$\n",
    "\n",
    "Por comodidad podemos sustituir los valores siguientes:\n",
    "\n",
    "$$\\Delta_{h}f=f(x+h)$$ \n",
    "\n",
    "y \n",
    "\n",
    "$$\\Delta_{-h}f=f(x-h)$$\n",
    "\n",
    "Para finalmente hacer la sustitución de las igualdades anteriores en la fórmula de derivada simétrica obteniendo lo que llamaré ecuación $\\alpha$:\n",
    "\n",
    "\n",
    "$$\\alpha=\\frac{d}{dx}=\\frac{\\Delta_{h}-\\Delta_{-h}}{2h}$$\n",
    "\n",
    "Ahora volvemos a derivar, osea derivamos $$\\frac{d\\alpha}{dx}$$ \n",
    "\n",
    "Obteniendo:\n",
    "\n",
    "$$\\frac{d\\alpha}{dx}=\\frac{\\Delta^{2}_{h}+2\\Delta_{h}\\Delta_{-h}+\\Delta^{2}_{-h}}{4h^{2}}$$\n",
    "\n",
    "Como alpha es la derivada simétrica, y volviendo a sustituir las igualdades de delta que definimos al inicio de la solución del ejercicio, el Laplaciano nos queda:\n",
    "\n",
    "$$\\frac{d^2f}{dx^{2}}=\\frac{f(x+h)^{2}+2f(x+h)f(x-h)+f(x-h)}{h^{2}}$$\n",
    "\n",
    "Discretizando como f es una funcion de 3 variables $f_{x,y,z}=f(x,y,z)$, donde:\n",
    "\n",
    "$$\\nabla^2(x,y,z)=\\frac{f(x+dx,y,z)+2f(x,y,z)+f(x-dx,y,z)}{dx^{2}}+\\frac{f(x,y+dy,z)+2f(x,y,z)+f(x,y-dy,z)}{dy^{2}}+\\frac{f(x,y,z+dz)+2f(x,y,z)+f(x,y,z-dz)}{dz^{2}}$$\n",
    "\n",
    "Donde si $dx=dy=dz=h$\n",
    "\n",
    "$$\\nabla^2(x,y,z)=\\frac{f(x+h,y,z)+2f(x,y,z)+f(x-h,y,z)}{h^{2}}+\\frac{f(x,y+h,z)+2f(x,y,z)+f(x,y-h,z)}{h^{2}}+\\frac{f(x,y,z+h)+2f(x,y,z)+f(x,y,z-h)}{h^{2}}$$\n",
    "\n",
    "Simplificando aun más:\n",
    "\n",
    "$$\\nabla^2(x,y,z)=\\frac{f(x+h,y,z)+6f(x,y,z)+f(x-h,y,z)+f(x,y+h,z)+f(x,y-h,z)+f(x,y,z+h)+f(x,y,z-h)}{h^2}$$"
   ]
  },
  {
   "cell_type": "markdown",
   "metadata": {},
   "source": [
    "__Ejercicio 2 (condiciones a la frontera de Dirichlet)__. Discretice la ecuación \n",
    "$$ \\frac{d^2f}{dx^2}, $$\n",
    "en el intervalo $[0,1]$, y aplicando el operador laplaciano discretizado obtenga el sistema de ecuaciones algebraicas lineales correspondientes al problema de _Dirichlet_:\n",
    "$f(0) = a$ y $f(1) = b$ dividiendo el intervalo $[0,1]$ en $5$ puntos separados por $h$."
   ]
  },
  {
   "cell_type": "markdown",
   "metadata": {},
   "source": [
    "Sabemos que la segunda derivada de f es igual a 0, entonces:\n",
    "$$\\frac{d^2f}{dx^{2}}=\\frac{f(x+h)^{2}+2f(x)+f(x-h)^{2}}{h^{2}}=0$$\n",
    "\n",
    "y además también sabemos que: $h^{2}\\neq0$ \n",
    "\n",
    "Por lo cual, el numerador es el que debe der ser 0, entonces:\n",
    "\n",
    "$$f(x+h)^{2}+2f(x)+f(x-h)^{2}=0$$  \n",
    "\n",
    "ahora si partimos el intervalo $[0,1]$ en 5 puntos igualmente separados, los 5 puntos quedan:\n",
    "\n",
    "$$x_{1}=0,x_{2}=\\frac{1}{5}, x_{2}=\\frac{2}{5}, x_{3}=\\frac{3}{5}, x_{4}=\\frac{4}{5}, x_{5}= 1$$\n",
    "\n",
    "Haciendo la evaluación de los puntos sucesivos:\n",
    "\n",
    "$$f(x_{1})+2f(x_{2})+f(x_{3})=0$$\n",
    "\n",
    "$$f(x_{2})+2f(x_{3})+f(x_{4})=0$$\n",
    "\n",
    "$$f(x_{3})+2f(x_{4})+f(x_{5})=0$$\n",
    "\n",
    "Sabemos que: $f(0)=a$ y $f(1)=b$, entonces sustituyendo:\n",
    "\n",
    "\n",
    "$$a+2f(x_{2})+f(x_{3})=0$$\n",
    "\n",
    "$$f(x_{2})+2f(x_{3})+f(x_{4})=0$$\n",
    "\n",
    "$$f(x_{3})+2f(x_{4})+b=0$$\n",
    "\n",
    "Despejando para obtener el sistema de ecuaciones:\n",
    "\n",
    "$$2f(x_{2})+f(x_{3})=-a$$\n",
    "\n",
    "$$f(x_{2})+2f(x_{3})+f(x_{4})=0$$\n",
    "\n",
    "$$f(x_{3})+2f(x_{4})=-b$$\n",
    "\n"
   ]
  },
  {
   "cell_type": "markdown",
   "metadata": {},
   "source": [
    "__Ejercicio 3 (condiciones a la frontera de Neumann)__. Hacer lo mismo para condiciones de _Neumann_, es decir, fijando en los extremos el valor de la primera derivada de la función. Para esto utilice la derivada _hacia adeltante_ en las orillas, es decir, si $f'(0)=a$ y $f'(1)=b$, entonces $(f_1-f_0)/h=a$, etc. No olvide que debe resultar un sistema de ecuación cuya dimensión sea el número de incognitas."
   ]
  },
  {
   "cell_type": "markdown",
   "metadata": {},
   "source": [
    "Tenemos el siguiente sistema dado por el problema:\n",
    "\n",
    "$$f(x_{1})+2f(x_{2})+f(x_{3})=0$$\n",
    "\n",
    "$$f(x_{2})+2f(x_{3})+f(x_{4})=0$$\n",
    "\n",
    "$$f(x_{3})+2f(x_{4})+f(x_{5})=0$$\n",
    "\n",
    "Donde sabemos que $f'(0)=a$ y $f'(1)=b$\n",
    "\n",
    "$$f'(x_{1})=\\frac{f(x_2)-f(x_1)}{h})$$\n",
    "\n",
    "Pero sabemos que $a=f'(x_{1})$ y $h=\\frac{1}{5}$\n",
    "\n",
    "Entonces sustituyendo esto en la fórmula anterior:\n",
    "\n",
    "$$a=\\frac{f(x_2)-f(x_1)}{\\frac{1}{5})$$\n",
    "\n",
    "Realizando el despeje de $f(x_{1})$\n",
    "\n",
    "$f(x_{1})=f(x_2)-\\frac{a}{5}$ \n",
    "\n",
    "Ahora sustituyendo la tercera ecuación \n",
    "$$f(x_{3})+2f(x_{4})+f(x_{5})=0$$ \n",
    "con estos los valores para b y h:\n",
    "\n",
    "$$b=\\frac{f(x_5)-f(x_4)}{\\frac{1}{5}}$$ \n",
    "\n",
    "Y realizando el despeje de $f(x_{5})$\n",
    "\n",
    " $f(x_{5})=f(x_4)+\\frac{b}{5}$ \n",
    "\n",
    "Ahora que ya tenemos el valor de $f(x_{5})$ y $f(x_{1})$ en funcion de otras f y de a o b\n",
    "Sustituimos en el sistema de ecuaciones y tenemos:\n",
    "\n",
    "$$f(x_2)-\\frac{a}{5}+2f(x_{2})+f(x_{3})=0$$\n",
    "$$f(x_{2})+2f(x_{3})+f(x_{4})=0$$\n",
    "$$f(x_{3})+2f(x_{4})+f(x_4)+\\frac{b}{5}=0$$\n",
    "\n",
    "Desarrollamos:\n",
    "\n",
    "$$3f(x_{2})+f(x_{3})=\\frac{a}{5}$$\n",
    "$$f(x_{2})+2f(x_{3})+f(x_{4})=0$$\n",
    "$$f(x_{3})+3f(x_{4})=-\\frac{b}{5}$$\n"
   ]
  },
  {
   "cell_type": "markdown",
   "metadata": {},
   "source": [
    "__Ejercicio 4 (indexación)__. `Julia` es más eficiente\n",
    "si se utiliza un único índice para acceder a los elementos\n",
    "de una matriz, además que puede simplificar algunos problemas. Escribe una función $\\phi$ que traduzca un par de\n",
    "índices $i,j$ a un único índice $k$, es decir:\n",
    "$$\\phi: (i,j) \\mapsto k.$$\n",
    "También encuentren $\\phi^{-1}$. Note que $\\phi$ deberá depender de las dimensiones del arreglo, por lo menos de una de ellas."
   ]
  },
  {
   "cell_type": "code",
   "execution_count": 2,
   "metadata": {},
   "outputs": [
    {
     "data": {
      "text/plain": [
       "Ind (generic function with 1 method)"
      ]
     },
     "execution_count": 2,
     "metadata": {},
     "output_type": "execute_result"
    }
   ],
   "source": [
    "function Ind(i,j,n)\n",
    "    return  (i-1)*n+j\n",
    "end"
   ]
  },
  {
   "cell_type": "code",
   "execution_count": 4,
   "metadata": {},
   "outputs": [
    {
     "name": "stdout",
     "output_type": "stream",
     "text": [
      "Sea nuestra i = 1 nuestra j = 1 entonces su índice es1\n",
      "Sea nuestra i = 1 nuestra j = 2 entonces su índice es2\n",
      "Sea nuestra i = 1 nuestra j = 3 entonces su índice es3\n",
      "Sea nuestra i = 2 nuestra j = 1 entonces su índice es4\n",
      "Sea nuestra i = 2 nuestra j = 2 entonces su índice es5\n",
      "Sea nuestra i = 2 nuestra j = 3 entonces su índice es6\n",
      "Sea nuestra i = 3 nuestra j = 1 entonces su índice es7\n",
      "Sea nuestra i = 3 nuestra j = 2 entonces su índice es8\n",
      "Sea nuestra i = 3 nuestra j = 3 entonces su índice es9\n"
     ]
    }
   ],
   "source": [
    "A=[1 0 0;0 1 0;0 0 1]\n",
    "\n",
    "n= size(A,1)\n",
    "m= size(A,2)\n",
    "\n",
    "for i in 1:n\n",
    "    for j in 1:m\n",
    "    println(\"Sea nuestra i = \",i ,\" nuestra j = \", j, \" entonces su índice es\",Ind(i,j,m))    \n",
    "    end\n",
    "end"
   ]
  },
  {
   "cell_type": "code",
   "execution_count": null,
   "metadata": {},
   "outputs": [],
   "source": []
  }
 ],
 "metadata": {
  "kernelspec": {
   "display_name": "Julia 0.5.2",
   "language": "julia",
   "name": "julia-0.5"
  },
  "language_info": {
   "file_extension": ".jl",
   "mimetype": "application/julia",
   "name": "julia",
   "version": "0.5.2"
  }
 },
 "nbformat": 4,
 "nbformat_minor": 2
}
