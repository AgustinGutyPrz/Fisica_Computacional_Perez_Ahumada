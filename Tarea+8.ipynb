{
 "cells": [
  {
   "cell_type": "markdown",
   "metadata": {},
   "source": [
    "Ejercicio 1. Escribe una función derivadaNumerica que reciba: una función $f\\colon \\mathbb{R}\\mapsto\\mathbb{R}$, un punto $x_0\\in\\mathbb{R}$ y un número $h\\in\\mathbb{R}$. Esta función deberá calcular una aproximación a la derivada utilizando la definición indicada arriba ignorando la parte del límite. Es decir, algo como: derivada_numerica(f,x,h).\n"
   ]
  },
  {
   "cell_type": "code",
   "execution_count": 2,
   "metadata": {
    "collapsed": false
   },
   "outputs": [
    {
     "data": {
      "text/plain": [
       "derivadanumerica (generic function with 1 method)"
      ]
     },
     "execution_count": 2,
     "metadata": {},
     "output_type": "execute_result"
    }
   ],
   "source": [
    "function derivadanumerica(f,x,h)\n",
    "    x1=x+h\n",
    "    Numerador=f(x1)-f(x)\n",
    "    Derivada=Numerador/h\n",
    "    return Derivada\n",
    "end\n"
   ]
  },
  {
   "cell_type": "code",
   "execution_count": 3,
   "metadata": {
    "collapsed": false
   },
   "outputs": [
    {
     "data": {
      "text/plain": [
       "f (generic function with 1 method)"
      ]
     },
     "execution_count": 3,
     "metadata": {},
     "output_type": "execute_result"
    }
   ],
   "source": [
    "f(x)=x^3+4"
   ]
  },
  {
   "cell_type": "code",
   "execution_count": 4,
   "metadata": {
    "collapsed": false
   },
   "outputs": [
    {
     "data": {
      "text/plain": [
       "19.0"
      ]
     },
     "execution_count": 4,
     "metadata": {},
     "output_type": "execute_result"
    }
   ],
   "source": [
    "derivadanumerica(f,2,1)"
   ]
  },
  {
   "cell_type": "code",
   "execution_count": 5,
   "metadata": {
    "collapsed": false
   },
   "outputs": [
    {
     "data": {
      "text/plain": [
       "g (generic function with 1 method)"
      ]
     },
     "execution_count": 5,
     "metadata": {},
     "output_type": "execute_result"
    }
   ],
   "source": [
    "g(x)=exp(x^2)"
   ]
  },
  {
   "cell_type": "code",
   "execution_count": 6,
   "metadata": {
    "collapsed": false
   },
   "outputs": [
    {
     "data": {
      "text/plain": [
       "223.38756907464585"
      ]
     },
     "execution_count": 6,
     "metadata": {},
     "output_type": "execute_result"
    }
   ],
   "source": [
    "derivadanumerica(g,2,0.01)"
   ]
  },
  {
   "cell_type": "code",
   "execution_count": 7,
   "metadata": {
    "collapsed": false
   },
   "outputs": [
    {
     "ename": "LoadError",
     "evalue": "\u001b[91msyntax: extra token \"7\" after end of expression\u001b[39m",
     "output_type": "error",
     "traceback": [
      "\u001b[91msyntax: extra token \"7\" after end of expression\u001b[39m",
      ""
     ]
    }
   ],
   "source": [
    "__Ejercicio 7:__ Explotar la relación $\\delta_h=\\Delta_h-\\Delta_{-h}$, donde $\\delta_h:f(x)\\mapsto f(x+h)-f(x-h)$, para encontrar cual es la función $\\theta$ que relaciona a $\\delta_h$ con el operador derivada exacta, es decir:\n",
    "$$\\delta_h=\\theta\\left(h\\left. \\frac{d}{d\\xi}\\right|_{\\xi=x}\\right).$$\n",
    "\n",
    "Una vez que la encuentren, despejen $\\left. \\frac{d}{d\\xi}\\right|_{\\xi=x}$ y calculen la serie de Taylor de mánera similar a lo mostrado en las ecuaciones 3 y 4."
   ]
  },
  {
   "cell_type": "markdown",
   "metadata": {},
   "source": [
    "Sabemos que $\\delta_h=\\Delta_h-\\Delta_{-h}$ lo que es equivalente a:\n",
    "\n",
    "$$\\delta_h f(x)= f(x+h)-f(x-h)$$\n",
    "$$\\space$$\n",
    "$$\\Delta_h=exp\\left(h\\left. \\frac{d}{d\\xi}\\right|_{\\xi=x}\\right)-1$$\n",
    "$$\\space$$\n",
    "\n",
    "\n",
    "$$\\Delta_{-h}=exp\\left(-h\\left. \\frac{d}{d\\xi}\\right|_{\\xi=x}\\right)-1$$\n",
    "$$\\space$$\n",
    "entonces$\\space$ $$\\delta_h=exp\\left(h\\left. \\frac{d}{d\\xi}\\right|_{\\xi=x}\\right)-1-\\left(exp\\left(-h\\left. \\frac{d}{d\\xi}\\right|_{\\xi=x}\\right)-1\\right)$$\n",
    "\n",
    "$\\space$ $$\\delta_h=exp\\left(h\\left. \\frac{d}{d\\xi}\\right|_{\\xi=x}\\right)-\\left(exp\\left(-h\\left. \\frac{d}{d\\xi}\\right|_{\\xi=x}\\right)\\right)$$\n",
    "\n",
    "de lo anterior podemos ver que $\\space$ $\\delta_h=2sinh\\left(h\\left. \\frac{d}{d\\xi}\\right|_{\\xi=x}\\right)$ $\\space$ y entonces:\n",
    "\n",
    "$$\\left. \\frac{d}{d\\xi}\\right|_{\\xi=x}=\\frac{1}{h}sinh^{-1} \\left( \\frac{\\delta_{h}}{2}\\right)$$\n",
    "$$\\space$$\n",
    "$$=\\frac{1}{h}\\sum\\nolimits_{n=0}^\\infty\\frac{(-1^{n})(2n)!}{2^{2n}(n!)^{2}}\\left( \\frac{\\delta_{h}}{2}\\right)^{2n}$$\n"
   ]
  },
  {
   "cell_type": "code",
   "execution_count": 17,
   "metadata": {
    "collapsed": false
   },
   "outputs": [
    {
     "data": {
      "text/plain": [
       "taylorejercicio7 (generic function with 1 method)"
      ]
     },
     "execution_count": 17,
     "metadata": {},
     "output_type": "execute_result"
    }
   ],
   "source": [
    "function taylorejercicio7(f,x,h,N)\n",
    "    a=f(x+h)\n",
    "    b=f(x-h)\n",
    "    dh=a-b\n",
    "    suma=0\n",
    "    for i in 0:N\n",
    "            a=(-1.0)^(i)\n",
    "            b=factorial(BigInt(2*i))\n",
    "            c=(2.0)^(2*i)\n",
    "            d=factorial(BigInt(i))\n",
    "            e=d^2\n",
    "            f=(dh/2)\n",
    "            g=f^(2*i)\n",
    "            suma=suma+(((a*b)/(c*e))*g)\n",
    "        end\n",
    "        \n",
    "        final=suma/h\n",
    "        return final\n",
    "    end\n",
    "            \n",
    "        \n",
    "        "
   ]
  },
  {
   "cell_type": "code",
   "execution_count": 18,
   "metadata": {
    "collapsed": false
   },
   "outputs": [
    {
     "data": {
      "text/plain": [
       "h (generic function with 1 method)"
      ]
     },
     "execution_count": 18,
     "metadata": {},
     "output_type": "execute_result"
    }
   ],
   "source": [
    "h(x)=x^2"
   ]
  },
  {
   "cell_type": "code",
   "execution_count": 19,
   "metadata": {
    "collapsed": false
   },
   "outputs": [
    {
     "data": {
      "text/plain": [
       "3.186171875000000000000000000000000000000000000000000000000000000000000000000000e+03"
      ]
     },
     "execution_count": 19,
     "metadata": {},
     "output_type": "execute_result"
    }
   ],
   "source": [
    "taylorejercicio7(h,3,0.5,4)"
   ]
  },
  {
   "cell_type": "code",
   "execution_count": null,
   "metadata": {
    "collapsed": true
   },
   "outputs": [],
   "source": []
  }
 ],
 "metadata": {
  "kernelspec": {
   "display_name": "Julia 0.6.0",
   "language": "julia",
   "name": "julia-0.6"
  },
  "language_info": {
   "file_extension": ".jl",
   "mimetype": "application/julia",
   "name": "julia",
   "version": "0.6.0"
  }
 },
 "nbformat": 4,
 "nbformat_minor": 2
}
