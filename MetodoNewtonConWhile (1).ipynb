{
 "cells": [
  {
   "cell_type": "code",
   "execution_count": 6,
   "metadata": {
    "collapsed": false
   },
   "outputs": [
    {
     "data": {
      "text/plain": [
       "f (generic function with 1 method)"
      ]
     },
     "execution_count": 6,
     "metadata": {},
     "output_type": "execute_result"
    }
   ],
   "source": [
    "function f(x) #declaro la función propuesta en clase\n",
    "    (x*(tan(x)))-sqrt(5-x^2)\n",
    "end"
   ]
  },
  {
   "cell_type": "code",
   "execution_count": 7,
   "metadata": {
    "collapsed": false
   },
   "outputs": [
    {
     "data": {
      "text/plain": [
       "g (generic function with 1 method)"
      ]
     },
     "execution_count": 7,
     "metadata": {},
     "output_type": "execute_result"
    }
   ],
   "source": [
    "function g(x) #para el método de Newton necesito su derivada y la defino como g.\n",
    "    tan(x)+(x*(sec(x)^2))+(x/sqrt(5-x^2))\n",
    "end"
   ]
  },
  {
   "cell_type": "code",
   "execution_count": 8,
   "metadata": {
    "collapsed": false
   },
   "outputs": [
    {
     "name": "stderr",
     "output_type": "stream",
     "text": [
      "WARNING: Method definition newton(Any, Any) in module Main at In[1]:2 overwritten at In[8]:2.\n"
     ]
    },
    {
     "data": {
      "text/plain": [
       "newton (generic function with 1 method)"
      ]
     },
     "execution_count": 8,
     "metadata": {},
     "output_type": "execute_result"
    }
   ],
   "source": [
    "function newton(x0,tol) #es la funcion para calcular el método de newton\n",
    "        J=f(x0)  #evaluo si x0 no es la raiz\n",
    "    error=abs(J) #Y llamaré al primer error, lo que se separe f(x0) del 0.\n",
    "        while error>tol #mientras el error sea mayor a la tolerancia dada, entrará al loop.\n",
    "        F=f(x0) #evaluo x0 en f\n",
    "        G=g(x0) #evaluo x0 en g\n",
    "        x1=x0-(F/G) #x1 es la aproximación de la raiz a partir de x0\n",
    "        error=abs(x0-x1) #recalculo el error, ahora apartir de la distancia entra las aproximaciones x1 y x0 de la raiz\n",
    "        x0=x1 #redefino x0 ahora como x1 por si necesito entrar al loop\n",
    "     #   println(x0) #imprime todas las x1 calculadas\n",
    "    end\n",
    "x0 #devuelve x0\n",
    "end"
   ]
  },
  {
   "cell_type": "code",
   "execution_count": 4,
   "metadata": {
    "collapsed": false
   },
   "outputs": [
    {
     "data": {
      "text/plain": [
       "1.071212105341641"
      ]
     },
     "execution_count": 4,
     "metadata": {},
     "output_type": "execute_result"
    }
   ],
   "source": [
    "newton(1,0.0000001)"
   ]
  },
  {
   "cell_type": "code",
   "execution_count": 5,
   "metadata": {
    "collapsed": false
   },
   "outputs": [
    {
     "data": {
      "text/plain": [
       "3.829185539760971e-7"
      ]
     },
     "execution_count": 5,
     "metadata": {},
     "output_type": "execute_result"
    }
   ],
   "source": [
    "f(1.0712121596896946)"
   ]
  },
  {
   "cell_type": "code",
   "execution_count": 9,
   "metadata": {
    "collapsed": false
   },
   "outputs": [
    {
     "name": "stderr",
     "output_type": "stream",
     "text": [
      "WARNING: Method definition newtonR(Any, Any) in module Main at In[4]:2 overwritten at In[9]:2.\n"
     ]
    },
    {
     "data": {
      "text/plain": [
       "newtonR (generic function with 1 method)"
      ]
     },
     "execution_count": 9,
     "metadata": {},
     "output_type": "execute_result"
    }
   ],
   "source": [
    "function newtonR(x0,tol) #es la funcion para calcular el método de newton\n",
    "        J=f(x0)  #evaluo si x0 no es la raiz\n",
    "    nuevaf=abs(J) #Y llamaré al primer error, lo que se separe f(x0) del 0.\n",
    "        while nuevaf>tol #mientras el error sea mayor a la tolerancia dada, entrará al loop.\n",
    "        F=f(x0) #evaluo x0 en f\n",
    "        G=g(x0) #evaluo x0 en g\n",
    "        x1=x0-(F/G) #x1 es la aproximación de la raiz a partir de x0\n",
    "        J=f(x1)\n",
    "        nuevaf=abs(J) #recalculo el error, ahora apartir de la distancia entra las aproximaciones x1 y x0 de la raiz\n",
    "        x0=x1 #redefino x0 ahora como x1 por si necesito entrar al loop\n",
    "     #   println(x0) #imprime todas las x1 calculadas\n",
    "    end\n",
    "x0 #devuelve x0\n",
    "end"
   ]
  },
  {
   "cell_type": "code",
   "execution_count": 10,
   "metadata": {
    "collapsed": false
   },
   "outputs": [
    {
     "data": {
      "text/plain": [
       "1.0712121596896946"
      ]
     },
     "execution_count": 10,
     "metadata": {},
     "output_type": "execute_result"
    }
   ],
   "source": [
    "newtonR(1,0.000001)"
   ]
  },
  {
   "cell_type": "code",
   "execution_count": null,
   "metadata": {
    "collapsed": true
   },
   "outputs": [],
   "source": []
  }
 ],
 "metadata": {
  "kernelspec": {
   "display_name": "Julia 0.5.2",
   "language": "julia",
   "name": "julia-0.5"
  },
  "language_info": {
   "file_extension": ".jl",
   "mimetype": "application/julia",
   "name": "julia",
   "version": "0.5.2"
  }
 },
 "nbformat": 4,
 "nbformat_minor": 2
}
