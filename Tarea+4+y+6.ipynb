{
 "cells": [
  {
   "cell_type": "markdown",
   "metadata": {},
   "source": [
    "Integral de Riemann\n",
    "\n",
    "La integral de Riemann, es una función sobre un intervalo A=[a,b] cerrado y continuo en ese intervalo A. Donde a y b son los extremos de ese intervalo y la función se define como una suma desde i hasta el infinito de la función evaluada en un punto xi multiplicada por su tamaño de paso.\n",
    "\n",
    "Estos se pueden ver como rectángulos y la aproximación del área será mejor conforme se aumente el número de rectángulos."
   ]
  },
  {
   "cell_type": "code",
   "execution_count": 1,
   "metadata": {
    "collapsed": false
   },
   "outputs": [
    {
     "data": {
      "text/plain": [
       "riemann (generic function with 1 method)"
      ]
     },
     "execution_count": 1,
     "metadata": {},
     "output_type": "execute_result"
    }
   ],
   "source": [
    "function riemann(a,b,N)\n",
    "    x=linspace(a,b,N)\n",
    "    A=0\n",
    "    for i in 2:N\n",
    "        dx=x[i]-x[i-1]\n",
    "        F=f(x[i-1])\n",
    "        A=(F*dx)+A\n",
    "    end\n",
    "    return A\n",
    "end"
   ]
  },
  {
   "cell_type": "code",
   "execution_count": 2,
   "metadata": {
    "collapsed": false
   },
   "outputs": [
    {
     "data": {
      "text/plain": [
       "f (generic function with 1 method)"
      ]
     },
     "execution_count": 2,
     "metadata": {},
     "output_type": "execute_result"
    }
   ],
   "source": [
    "f(x)=(3/(4-x))"
   ]
  },
  {
   "cell_type": "code",
   "execution_count": 3,
   "metadata": {
    "collapsed": false
   },
   "outputs": [
    {
     "data": {
      "text/plain": [
       "2.0719602914454724"
      ]
     },
     "execution_count": 3,
     "metadata": {},
     "output_type": "execute_result"
    }
   ],
   "source": [
    "riemann(0,2,101)"
   ]
  },
  {
   "cell_type": "markdown",
   "metadata": {},
   "source": [
    "Aproximación por trapecios.\n",
    "\n",
    "En un intervalo cerrado A=[a,b] donde a y b son extremos y además la función f a evaluar en ese intervalo es continua; la aproximación de la integral por trapecios es dibujar trapecios  mediante particiones al intervalo A, donde a mayor particiones, mejor será la aproximación.\n",
    "\n",
    "Como ahora tenemos trapecios bajo la curva, la forma de calcular su área es la típica de suma de bases ente dos, por altura; en este caso la \"altura\" la podemos ver como el tamaño de paso dx y las bases son los puntos xi y x(i+1) evaluados en f. Por lo cual; la fórmula para la aproximación de integrales mediante el método del trapecio es:\n",
    "\n",
    "La suma de i=2 hasta N de (f(x[i-1])+f(x[i]))(dx)/2"
   ]
  },
  {
   "cell_type": "code",
   "execution_count": 4,
   "metadata": {
    "collapsed": false
   },
   "outputs": [
    {
     "data": {
      "text/plain": [
       "trapecios (generic function with 1 method)"
      ]
     },
     "execution_count": 4,
     "metadata": {},
     "output_type": "execute_result"
    }
   ],
   "source": [
    "function trapecios(a,b,N)\n",
    "    x=linspace(a,b,N)\n",
    "    A=0\n",
    "    for i in 2:N\n",
    "        dx=x[i]-x[i-1]\n",
    "        F1=f(x[i-1])\n",
    "        F2=f(x[i])\n",
    "        F=((F1+F2)/2)\n",
    "        A=(F*dx)+A\n",
    "    end\n",
    "    return A\n",
    "end"
   ]
  },
  {
   "cell_type": "code",
   "execution_count": 5,
   "metadata": {
    "collapsed": false
   },
   "outputs": [
    {
     "data": {
      "text/plain": [
       "2.0794602914454727"
      ]
     },
     "execution_count": 5,
     "metadata": {},
     "output_type": "execute_result"
    }
   ],
   "source": [
    "trapecios(0,2,101)"
   ]
  },
  {
   "cell_type": "markdown",
   "metadata": {},
   "source": [
    "Aproximación a la integral por regla de Simpson.\n",
    "\n",
    "Es una mejor forma de aproximación a la integral, ya que se mejora la aproximación a la función f en el punto x en la construcción de trapecios.\n",
    "\n",
    "Esto se logra con una aproximación polinómica de grado 2, mediante el polinomio de Lagrange.\n",
    "\n",
    "Para esto tomaremos un intervalo A=[a,b] donde a y b son extremos del intervalo y f es continua en este intervalo, definiré una variable m  como m=(b-a)/2.\n",
    "\n",
    "Cabe mencionar que este método sólo fuciona para polinomios de grado 3 o menor ya que se necesita la 4 derivada para calcular el error y queremos que esta cuarta derivada sea 0.\n",
    "\n",
    "La integral de f en ese intervalo aproximada por la regla de simpson es:\n",
    "(m/3)(f(a)+f(b)+4f(m))\n",
    "\n",
    "Y su error es el equivalente al valor absoluto de:\n",
    "(m^5)/90 por la cuarta derivada de f evaluada en algún punto del intervalo A."
   ]
  },
  {
   "cell_type": "code",
   "execution_count": null,
   "metadata": {
    "collapsed": true
   },
   "outputs": [],
   "source": []
  },
  {
   "cell_type": "code",
   "execution_count": 6,
   "metadata": {
    "collapsed": false
   },
   "outputs": [
    {
     "data": {
      "text/plain": [
       "simpson (generic function with 1 method)"
      ]
     },
     "execution_count": 6,
     "metadata": {},
     "output_type": "execute_result"
    }
   ],
   "source": [
    "function simpson(a,b)\n",
    "    m=(b-a)/2\n",
    "    A=(m/3)*(f(a)+f(b)+(4*f(m)))\n",
    "    return A\n",
    "    \n",
    "end"
   ]
  },
  {
   "cell_type": "code",
   "execution_count": 8,
   "metadata": {
    "collapsed": false
   },
   "outputs": [
    {
     "data": {
      "text/plain": [
       "2.083333333333333"
      ]
     },
     "execution_count": 8,
     "metadata": {},
     "output_type": "execute_result"
    }
   ],
   "source": [
    "simpson(0,2)"
   ]
  },
  {
   "cell_type": "markdown",
   "metadata": {},
   "source": [
    "En mi caso use una f de un ejercicio que resolví y encontré en una página donde su integral exacta en el intervalo 0 a 2 es: 2.07984; por lo cual podemos ver que estos métodos funcionan bien al menos para primeras aproximaciones."
   ]
  },
  {
   "cell_type": "markdown",
   "metadata": {},
   "source": [
    "Fuentes de consulta:\n",
    "http://www.wikimatematica.org/index.php?title=Integral_de_Riemann\n",
    "https://es.khanacademy.org/math/integral-calculus/riemann-sums-ic\n",
    "https://es.wikipedia.org/wiki/Regla_de_Simpson\n",
    "http://portales.puj.edu.co/objetosdeaprendizaje/Online/OA10/capitulo4/capitulo4_2.htm\n"
   ]
  },
  {
   "cell_type": "code",
   "execution_count": 9,
   "metadata": {
    "collapsed": false
   },
   "outputs": [
    {
     "data": {
      "text/plain": [
       "Riemann (generic function with 1 method)"
      ]
     },
     "execution_count": 9,
     "metadata": {},
     "output_type": "execute_result"
    }
   ],
   "source": [
    "function Riemann(a,b,dx)\n",
    "    x=a\n",
    "    A=0\n",
    "    while x<=b\n",
    "        F=f(x)\n",
    "        A=(F*dx)+A\n",
    "        x=x+dx\n",
    "    end\n",
    "    return A\n",
    "end"
   ]
  },
  {
   "cell_type": "code",
   "execution_count": 10,
   "metadata": {
    "collapsed": false
   },
   "outputs": [
    {
     "data": {
      "text/plain": [
       "2.071960291445473"
      ]
     },
     "execution_count": 10,
     "metadata": {},
     "output_type": "execute_result"
    }
   ],
   "source": [
    "Riemann(0,2,0.02)"
   ]
  },
  {
   "cell_type": "code",
   "execution_count": null,
   "metadata": {
    "collapsed": true
   },
   "outputs": [],
   "source": []
  }
 ],
 "metadata": {
  "kernelspec": {
   "display_name": "Julia 0.6.0",
   "language": "julia",
   "name": "julia-0.6"
  },
  "language_info": {
   "file_extension": ".jl",
   "mimetype": "application/julia",
   "name": "julia",
   "version": "0.6.0"
  }
 },
 "nbformat": 4,
 "nbformat_minor": 2
}
