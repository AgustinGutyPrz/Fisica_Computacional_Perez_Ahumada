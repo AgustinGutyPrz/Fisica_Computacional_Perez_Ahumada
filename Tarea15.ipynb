{
 "cells": [
  {
   "cell_type": "markdown",
   "metadata": {},
   "source": [
    "__Ejercicio 1:__ Crear la libreria herramientas dentro de su carpeta de tareas, en su repositorio. Dentro deberán poner los métodos de Newton que construyeron, los métodos de integración, Euler independiente de dimensión (implícito y explícito)y Runge-Kutta independiente de dimensión. Recuerden que las rutinas deben funcionar solo con sus argumentos, no debe haber variables globales, todo lo que necesite la función para trabajar debe ser un argumento o una variable definida internamente.\n",
    "* Las rutinas tienen que llevar su documentación.\n",
    "* Crearán el notebook de la __tarea 15 (para el Martes 17)__ y en el llamarán a su libreria con el comando `import`.\n",
    "* Deberán demostrar que sus rutinas funcionan bien, no se necesitan tests extensos, basta con que muestren que si _corren_ las rutinas."
   ]
  },
  {
   "cell_type": "code",
   "execution_count": 1,
   "metadata": {},
   "outputs": [
    {
     "data": {
      "text/plain": [
       "herramientas"
      ]
     },
     "execution_count": 1,
     "metadata": {},
     "output_type": "execute_result"
    }
   ],
   "source": [
    "__precompile__() # Este comando es para que julia precompile el paquete\n",
    "\n",
    "module herramientas\n",
    "\n",
    "export metodo_newton\n",
    "\n",
    "\"\"\"documentación del método de Newton\"\"\"\n",
    "function metodo_newton(f,g,x0,tol) #es la funcion para calcular el método de newton\n",
    "        J=f(x0)  #evaluo si x0 no es la raiz\n",
    "    nuevaf=abs(J) #Y llamaré al primer error, lo que se separe f(x0) del 0.\n",
    "        while nuevaf>tol #mientras el error sea mayor a la tolerancia dada, entrará al loop.\n",
    "        F=f(x0) #evaluo x0 en f\n",
    "        G=g(x0) #evaluo x0 en g\n",
    "        x1=x0-(F/G) #x1 es la aproximación de la raiz a partir de x0\n",
    "        J=f(x1)\n",
    "        nuevaf=abs(J) #recalculo el error, ahora apartir de la distancia entra las aproximaciones x1 y x0 de la raiz\n",
    "        x0=x1 #redefino x0 ahora como x1 por si necesito entrar al loop\n",
    "     #   println(x0) #imprime todas las x1 calculadas\n",
    "    end\n",
    "x0 #devuelve x0\n",
    "end\n",
    "\n",
    "export Riemann\n",
    "\n",
    "function Riemann(f,a,b,N)\n",
    "    x=linspace(a,b,N)\n",
    "    A=0\n",
    "    for i in 2:N\n",
    "        dx=x[i]-x[i-1]\n",
    "        F=f(x[i-1])\n",
    "        A=(F*dx)+A\n",
    "    end\n",
    "    return A\n",
    "end\n",
    "\n",
    "export trapecios\n",
    "\n",
    "function trapecios(f,a,b,N)\n",
    "    x=linspace(a,b,N)\n",
    "    A=0\n",
    "    for i in 2:N\n",
    "        dx=x[i]-x[i-1]\n",
    "        F1=f(x[i-1])\n",
    "        F2=f(x[i])\n",
    "        F=((F1+F2)/2)\n",
    "        A=(F*dx)+A\n",
    "    end\n",
    "    return A\n",
    "end\n",
    "\n",
    "export Simpson\n",
    "\n",
    "function Simpson(f,a,b)\n",
    "    m=(b-a)/2\n",
    "    A=(m/3)*(f(a)+f(b)+(4*f(m)))\n",
    "    return A\n",
    "    end\n",
    "\n",
    "export Runge #Es el runge de la tarea 13 inciso 1\n",
    "using PyPlot\n",
    "function Runge(f,alfa, t0,h,N) #función para la aproximación mediante el método runge de cuarto grado\n",
    "    T = []\n",
    "    X = []\n",
    "    t = t0\n",
    "    x = alfa\n",
    "    while t<=N\n",
    "        push!(T,t)\n",
    "        push!(X,x)\n",
    "        k1=(f(t,x)) #K1,k2,k3,k4 son las fórmulas para calcular las constantes para el método\n",
    "        k2=(f(t+(h/2),x+(h*k1/2)))#runge de 4 grado.\n",
    "        k3=f(t+(h/2),x+(h*k2/2))\n",
    "        k4=f(t+h,x+(h*k3))\n",
    "        t=t+h #son los pasos de tiempo y es válido ya que son constantes.\n",
    "        x= x + (h/6)*(k1+(2(k2+k3))+k4) #Es según la fórmula, una aproximación del método de runge\n",
    "    end\n",
    "    plot(T,X,color=\"pink\") #grafica la solucion\n",
    "end\n",
    "\n",
    "export eulerMethod\n",
    "using PyPlot\n",
    "function eulerMethod(f,alfa,t0,h,N) #voy a implementar el metodo numerico de euler para ec. diferenciales\n",
    "    T = [] #en estos arreglos vacios guardaré mis pasos de tiempo t\n",
    "    W = []#aqui guardare los x obtenidos en cada iteracion\n",
    "    t=t0 #es mi valor inicial de t\n",
    "    w = alfa#es mi valor inicial de x\n",
    "    while t<=N #si t aun no llega al valor que quiero que llegue, entra al ciclo\n",
    "        push!(T,t) #guarda el valor de t en T\n",
    "        push!(W,w) #guarda el valor de x en W\n",
    "        t=t+h\n",
    "        s=f(t,w)#la ec diferencial de primer orden está igualada a una funcion f y aca se evalua nuestro valor anterior de t y x\n",
    "        w = w + h*s #recalculamos x\n",
    "    end  \n",
    "     plot(T,W,color=\"purple\") #grafica la solucion\n",
    "end\n",
    "\n",
    " export eulerImp #Es el euler implicito de la tarea 12 inciso 1\n",
    "using PyPlot\n",
    "function eulerImp(f,alfa,t0,h,N) #voy a implementar el metodo numerico de euler para ec. diferenciales\n",
    "    T = [] #en estos arreglos vacios guardaré mis pasos de tiempo t\n",
    "    W = []#aqui guardare los x obtenidos en cada iteracion\n",
    "    t=t0 #es mi valor inicial de t\n",
    "    w = alfa #es mi valor inicial de x\n",
    "    while t<=N #si t aun no llega al valor que quiero que llegue, entra al ciclo\n",
    "        push!(T,t) #guarda el valor de t en T\n",
    "        push!(W,w) #guarda el valor de x en W\n",
    "        t=t+h\n",
    "        s=f(t,w)#la ec diferencial de primer orden está igualada a una funcion f y aca se evalua nuestro valor anterior de t y x\n",
    "        w = w + h*s #recalculamos x\n",
    "        \n",
    "    end  \n",
    "    scatter(T,W,color=\"green\") #graficamos t vs x\n",
    "end\n",
    "\n",
    "end"
   ]
  },
  {
   "cell_type": "code",
   "execution_count": 2,
   "metadata": {},
   "outputs": [
    {
     "name": "stderr",
     "output_type": "stream",
     "text": [
      "WARNING: could not import herramientas.jl into Main\n"
     ]
    }
   ],
   "source": [
    "import herramientas.jl"
   ]
  },
  {
   "cell_type": "code",
   "execution_count": 3,
   "metadata": {},
   "outputs": [
    {
     "data": {
      "text/plain": [
       "1.4142156862745099"
      ]
     },
     "execution_count": 3,
     "metadata": {},
     "output_type": "execute_result"
    }
   ],
   "source": [
    "herramientas.metodo_newton(x->x^2-2,x->2*x,1,0.001)"
   ]
  },
  {
   "cell_type": "code",
   "execution_count": 4,
   "metadata": {},
   "outputs": [
    {
     "data": {
      "text/plain": [
       "H (generic function with 1 method)"
      ]
     },
     "execution_count": 4,
     "metadata": {},
     "output_type": "execute_result"
    }
   ],
   "source": [
    "H(x)=(3/(4-x))\n"
   ]
  },
  {
   "cell_type": "code",
   "execution_count": 5,
   "metadata": {},
   "outputs": [
    {
     "data": {
      "text/plain": [
       "2.0719602914454724"
      ]
     },
     "execution_count": 5,
     "metadata": {},
     "output_type": "execute_result"
    }
   ],
   "source": [
    "herramientas.Riemann(H,0,2,101)"
   ]
  },
  {
   "cell_type": "code",
   "execution_count": 6,
   "metadata": {},
   "outputs": [
    {
     "data": {
      "text/plain": [
       "2.0794602914454727"
      ]
     },
     "execution_count": 6,
     "metadata": {},
     "output_type": "execute_result"
    }
   ],
   "source": [
    "herramientas.trapecios(H,0,2,101)"
   ]
  },
  {
   "cell_type": "code",
   "execution_count": 7,
   "metadata": {},
   "outputs": [
    {
     "data": {
      "text/plain": [
       "2.083333333333333"
      ]
     },
     "execution_count": 7,
     "metadata": {},
     "output_type": "execute_result"
    }
   ],
   "source": [
    "herramientas.Simpson(H,0,2)"
   ]
  },
  {
   "cell_type": "code",
   "execution_count": 8,
   "metadata": {},
   "outputs": [
    {
     "data": {
      "text/plain": [
       "U (generic function with 1 method)"
      ]
     },
     "execution_count": 8,
     "metadata": {},
     "output_type": "execute_result"
    }
   ],
   "source": [
    "U(t,x)=-5*x"
   ]
  },
  {
   "cell_type": "code",
   "execution_count": 9,
   "metadata": {},
   "outputs": [],
   "source": [
    "using PyPlot"
   ]
  },
  {
   "cell_type": "code",
   "execution_count": 10,
   "metadata": {},
   "outputs": [
    {
     "data": {
      "image/png": "[encoded data removed]",
      "text/plain": [
       "PyPlot.Figure(PyObject <matplotlib.figure.Figure object at 0x7f76c41a7290>)"
      ]
     },
     "metadata": {},
     "output_type": "display_data"
    },
    {
     "data": {
      "text/plain": [
       "PyObject <matplotlib.collections.PathCollection object at 0x7f76c214f250>"
      ]
     },
     "execution_count": 10,
     "metadata": {},
     "output_type": "execute_result"
    }
   ],
   "source": [
    "herramientas.eulerImp(U,2,0,0.1,8)"
   ]
  },
  {
   "cell_type": "code",
   "execution_count": 11,
   "metadata": {},
   "outputs": [
    {
     "data": {
      "text/plain": [
       "G (generic function with 1 method)"
      ]
     },
     "execution_count": 11,
     "metadata": {},
     "output_type": "execute_result"
    }
   ],
   "source": [
    "function G(t,x)\n",
    "    a=cos(0.866*t)+(1.732*sin(0.866*t))\n",
    "    b=e^(t/2)\n",
    "    c=(-a)/b\n",
    "    return c\n",
    "end"
   ]
  },
  {
   "cell_type": "code",
   "execution_count": 12,
   "metadata": {},
   "outputs": [
    {
     "data": {
      "image/png": "[encoded data removed]",
      "text/plain": [
       "PyPlot.Figure(PyObject <matplotlib.figure.Figure object at 0x7f76c20cc590>)"
      ]
     },
     "metadata": {},
     "output_type": "display_data"
    },
    {
     "data": {
      "text/plain": [
       "1-element Array{Any,1}:\n",
       " PyObject <matplotlib.lines.Line2D object at 0x7f76c1db9450>"
      ]
     },
     "execution_count": 12,
     "metadata": {},
     "output_type": "execute_result"
    }
   ],
   "source": [
    "herramientas.Runge(G,1,0,0.001,100)"
   ]
  },
  {
   "cell_type": "code",
   "execution_count": 13,
   "metadata": {},
   "outputs": [
    {
     "data": {
      "image/png": "[encoded data removed]",
      "text/plain": [
       "PyPlot.Figure(PyObject <matplotlib.figure.Figure object at 0x7f76c1e01050>)"
      ]
     },
     "metadata": {},
     "output_type": "display_data"
    },
    {
     "data": {
      "text/plain": [
       "1-element Array{Any,1}:\n",
       " PyObject <matplotlib.lines.Line2D object at 0x7f76c1cf3510>"
      ]
     },
     "execution_count": 13,
     "metadata": {},
     "output_type": "execute_result"
    }
   ],
   "source": [
    "herramientas.eulerMethod(G,1,0,0.001,100)"
   ]
  },
  {
   "cell_type": "code",
   "execution_count": null,
   "metadata": {},
   "outputs": [],
   "source": []
  }
 ],
 "metadata": {
  "kernelspec": {
   "display_name": "Julia 0.5.2",
   "language": "julia",
   "name": "julia-0.5"
  },
  "language_info": {
   "file_extension": ".jl",
   "mimetype": "application/julia",
   "name": "julia",
   "version": "0.5.2"
  }
 },
 "nbformat": 4,
 "nbformat_minor": 2
}
