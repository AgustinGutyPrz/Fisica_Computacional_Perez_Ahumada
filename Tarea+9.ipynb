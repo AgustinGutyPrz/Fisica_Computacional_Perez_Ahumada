{
 "cells": [
  {
   "cell_type": "markdown",
   "metadata": {},
   "source": [
    "__Ejercicio 2__. Utiliza tu función `derivadaNumerica` para\n",
    "calcular la derivada de la función $\\cos$ en un punto\n",
    "$x_0\\in[0,1)$. Compara tu resultado con el que indica el\n",
    "cálculo exacto. Utiliza valores de $h$ cada vez más pequeños, grafica el comportamiento de la derivada y muestra como converge al valor exacto conforme tomamos $h$'s cada vez más pequeño. Para ello pueden graficar el resultado de la derivada numérica contra $1/h$.\n",
    "Observa el resultado de la aproximación y comenta. ¿El error es del orden de $h$?, para ver esto grafica el error relativo a $f'(x_0)$:\n",
    "$$\\epsilon=\\left|\\frac{\\Delta f(x_0,h)/h-f'(x_0)}{f'(x_0)}\\right|,$$\n",
    "respecto a $h$."
   ]
  },
  {
   "cell_type": "code",
   "execution_count": 4,
   "metadata": {
    "collapsed": false
   },
   "outputs": [],
   "source": [
    "using Calculus"
   ]
  },
  {
   "cell_type": "code",
   "execution_count": 5,
   "metadata": {
    "collapsed": false
   },
   "outputs": [
    {
     "data": {
      "text/plain": [
       "derivadanumerica (generic function with 1 method)"
      ]
     },
     "execution_count": 5,
     "metadata": {},
     "output_type": "execute_result"
    }
   ],
   "source": [
    "function derivadanumerica(f,x,h)\n",
    "    x1=x+h\n",
    "    Numerador=f(x1)-f(x)\n",
    "    Derivada=Numerador/h\n",
    "    return Derivada\n",
    "end"
   ]
  },
  {
   "cell_type": "code",
   "execution_count": 6,
   "metadata": {
    "collapsed": false
   },
   "outputs": [
    {
     "data": {
      "text/plain": [
       "0.0:1.0e-7:1.0"
      ]
     },
     "execution_count": 6,
     "metadata": {},
     "output_type": "execute_result"
    }
   ],
   "source": [
    "conjunto=linspace(0,1,10000001)"
   ]
  },
  {
   "cell_type": "code",
   "execution_count": 7,
   "metadata": {
    "collapsed": false
   },
   "outputs": [
    {
     "data": {
      "text/plain": [
       "0.9330024"
      ]
     },
     "execution_count": 7,
     "metadata": {},
     "output_type": "execute_result"
    }
   ],
   "source": [
    "r=rand(conjunto)"
   ]
  },
  {
   "cell_type": "code",
   "execution_count": 8,
   "metadata": {
    "collapsed": false
   },
   "outputs": [
    {
     "data": {
      "text/plain": [
       "comparacion (generic function with 1 method)"
      ]
     },
     "execution_count": 8,
     "metadata": {},
     "output_type": "execute_result"
    }
   ],
   "source": [
    "function comparacion(conjunto,f) #es la funcion para comparar los valores de mi funcion creada en el ejercicio 1 y la derivada real de la función\n",
    "    D=[] #voy a crear 4 conjuntos vacios para ir guardando mis resultados de cada paso con push!\n",
    "    Real=[]\n",
    "    H=[]\n",
    "    E=[]\n",
    "    r=rand(conjunto)#r me va a dar un número aleatorio de mi conjunto previamente definido, de 0 a 1 y será la r a entrar a mi función del ejericio 1\n",
    "    for i in 1:10 #voy a ir variando h y eso ira reduciendo a la menos 1 cada vez mi h.\n",
    "        h=1*(10.0^(-i)) \n",
    "        j=1/h #esto solo va a ser para cumplir el requisito de graficar contra 1/h\n",
    "    d=derivadanumerica(f,r,h) #aqui uso el valor que me da mi función\n",
    "    real=f'(r) #voy a calcular el valor real de la derivada de la función en el punto r\n",
    "        error=(d-real)/real #voy a calcular el error\n",
    "        push!(E,error) #Voy a rellenar estos conjuntos con los valores calculados\n",
    "        push!(D,d)\n",
    "        push!(Real,real)\n",
    "        push!(H,j)\n",
    "    end\n",
    "scatter(H, D, color=\"red\") #voy a imprimir estos valores\n",
    "    scatter(H, Real, color=\"green\")\n",
    "    scatter(H,E,color=\"gold\")\n",
    "end\n",
    "    "
   ]
  },
  {
   "cell_type": "code",
   "execution_count": 9,
   "metadata": {
    "collapsed": false
   },
   "outputs": [],
   "source": [
    "using PyPlot"
   ]
  },
  {
   "cell_type": "code",
   "execution_count": 10,
   "metadata": {
    "collapsed": false
   },
   "outputs": [
    {
     "data": {
      "image/png": "[encoded data removed]",
      "text/plain": [
       "PyPlot.Figure(PyObject <matplotlib.figure.Figure object at 0x7f66d24d2110>)"
      ]
     },
     "metadata": {},
     "output_type": "display_data"
    },
    {
     "data": {
      "text/plain": [
       "PyObject <matplotlib.collections.PathCollection object at 0x7f66d041a050>"
      ]
     },
     "execution_count": 10,
     "metadata": {},
     "output_type": "execute_result"
    }
   ],
   "source": [
    "comparacion(conjunto,cos)"
   ]
  },
  {
   "cell_type": "markdown",
   "metadata": {
    "collapsed": true
   },
   "source": [
    "Ejercicio 3. Teniendo en mente la serie de Taylor para $f(x+h)$ ¿existe alguna forma de mejorar el cálculo de la derivada numérica? Comenta."
   ]
  },
  {
   "cell_type": "markdown",
   "metadata": {},
   "source": [
    "Por lo que hemos visto, para poder calcular derivadas más parecidas a las \"reales\", se deben usar h de tamaño infinitesimal; esto para poder observar de mejor manera los cambios; ya que si tenemos tamaños de paso h muy grande; como sólo se calcula por puntos; a mayor número de puntos, mejor podemos describir como se comporta la función.\n",
    "Ya que en curvas si se pierden datos."
   ]
  },
  {
   "cell_type": "markdown",
   "metadata": {},
   "source": [
    "¿Que pasa con los términos pares de la serie cuando la calculamos para $f(x-h)$?, ¿Como podemos despejar la derivada exacta de $f$ combinando ambas series?"
   ]
  },
  {
   "cell_type": "markdown",
   "metadata": {},
   "source": [
    "$$\n",
    "f'(x)=\\frac{f(x+h)-f(x-h)}{2h}.\n",
    "$$"
   ]
  },
  {
   "cell_type": "markdown",
   "metadata": {},
   "source": [
    "__Ejercicio 4__. Implementa la _derivada\n",
    "simétrica_ en `Julia` como `derivada_Simetrica` y repite la\n",
    "comparativa que realizaste en el __ejercicio 2__.\n"
   ]
  },
  {
   "cell_type": "code",
   "execution_count": 26,
   "metadata": {
    "collapsed": false
   },
   "outputs": [
    {
     "data": {
      "text/plain": [
       "derivadasimetrica (generic function with 1 method)"
      ]
     },
     "execution_count": 26,
     "metadata": {},
     "output_type": "execute_result"
    }
   ],
   "source": [
    "function derivadasimetrica(f,x,h)\n",
    "    num=f(x+h)-f(x-h)\n",
    "    ds=(num/2h)\n",
    "    return ds\n",
    "end"
   ]
  },
  {
   "cell_type": "code",
   "execution_count": 34,
   "metadata": {
    "collapsed": false
   },
   "outputs": [
    {
     "data": {
      "text/plain": [
       "comparacionejercicio4 (generic function with 2 methods)"
      ]
     },
     "execution_count": 34,
     "metadata": {},
     "output_type": "execute_result"
    }
   ],
   "source": [
    "function comparacionejercicio4(f,x)\n",
    "    D=[]\n",
    "    A=[]\n",
    "    P=[]\n",
    "    E=[]\n",
    "    for i in 1:10 #voy a ir variando h y eso ira reduciendo a la menos 1 cada vez mi h.\n",
    "        h=1*(10.0^(-i)) \n",
    "        push!(P,i) #Aqui voy a ir guardando el paso, para ver como se aproxima en cada paso\n",
    "    d=derivadasimetrica(f,x,h) #aqui uso el valor que me da mi función\n",
    "    real=f'(x) #voy a calcular el valor real de la derivada de la función en el punto r\n",
    "        error=d-real\n",
    "        push!(E,error)\n",
    "        push!(A,d) #guardo el valor calculado por mmi funcion\n",
    "        push!(D,real) #guardo el valor real\n",
    "            end\n",
    "    scatter(P, D, color=\"red\") #voy a imprimir el paso vs el valor real\n",
    "    scatter(P, A, color=\"green\") #voy a imprimir el paso vs mi aproximacion\n",
    "    \n",
    "end"
   ]
  },
  {
   "cell_type": "code",
   "execution_count": 28,
   "metadata": {
    "collapsed": false
   },
   "outputs": [
    {
     "data": {
      "text/plain": [
       "-0.8400692342254353"
      ]
     },
     "execution_count": 28,
     "metadata": {},
     "output_type": "execute_result"
    }
   ],
   "source": [
    "derivadasimetrica(cos,1,0.1)"
   ]
  },
  {
   "cell_type": "code",
   "execution_count": 29,
   "metadata": {
    "collapsed": false
   },
   "outputs": [
    {
     "data": {
      "text/plain": [
       "-0.8414569603616029"
      ]
     },
     "execution_count": 29,
     "metadata": {},
     "output_type": "execute_result"
    }
   ],
   "source": [
    "derivadasimetrica(cos,1,0.01)"
   ]
  },
  {
   "cell_type": "code",
   "execution_count": 30,
   "metadata": {
    "collapsed": false
   },
   "outputs": [
    {
     "data": {
      "text/plain": [
       "-0.8414708445627084"
      ]
     },
     "execution_count": 30,
     "metadata": {},
     "output_type": "execute_result"
    }
   ],
   "source": [
    "derivadasimetrica(cos,1,0.001)"
   ]
  },
  {
   "cell_type": "code",
   "execution_count": 31,
   "metadata": {
    "collapsed": false
   },
   "outputs": [
    {
     "data": {
      "text/plain": [
       "-0.841470983405368"
      ]
     },
     "execution_count": 31,
     "metadata": {},
     "output_type": "execute_result"
    }
   ],
   "source": [
    "derivadasimetrica(cos,1,0.0001)"
   ]
  },
  {
   "cell_type": "code",
   "execution_count": 32,
   "metadata": {
    "collapsed": false
   },
   "outputs": [
    {
     "data": {
      "text/plain": [
       "-0.8414709847974693"
      ]
     },
     "execution_count": 32,
     "metadata": {},
     "output_type": "execute_result"
    }
   ],
   "source": [
    "g=cos'(1)"
   ]
  },
  {
   "cell_type": "code",
   "execution_count": 35,
   "metadata": {
    "collapsed": false
   },
   "outputs": [
    {
     "data": {
      "image/png": "[encoded data removed]",
      "text/plain": [
       "PyPlot.Figure(PyObject <matplotlib.figure.Figure object at 0x7f66d00effd0>)"
      ]
     },
     "metadata": {},
     "output_type": "display_data"
    },
    {
     "data": {
      "text/plain": [
       "PyObject <matplotlib.collections.PathCollection object at 0x7f66d0076350>"
      ]
     },
     "execution_count": 35,
     "metadata": {},
     "output_type": "execute_result"
    }
   ],
   "source": [
    "comparacionejercicio4(cos,1)"
   ]
  },
  {
   "cell_type": "code",
   "execution_count": null,
   "metadata": {
    "collapsed": true
   },
   "outputs": [],
   "source": []
  }
 ],
 "metadata": {
  "kernelspec": {
   "display_name": "Julia 0.6.0",
   "language": "julia",
   "name": "julia-0.6"
  },
  "language_info": {
   "file_extension": ".jl",
   "mimetype": "application/julia",
   "name": "julia",
   "version": "0.6.0"
  }
 },
 "nbformat": 4,
 "nbformat_minor": 2
}
