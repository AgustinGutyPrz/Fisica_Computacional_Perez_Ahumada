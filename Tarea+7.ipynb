{
 "cells": [
  {
   "cell_type": "code",
   "execution_count": 1,
   "metadata": {
    "collapsed": false
   },
   "outputs": [
    {
     "data": {
      "text/plain": [
       "simpson (generic function with 1 method)"
      ]
     },
     "execution_count": 1,
     "metadata": {},
     "output_type": "execute_result"
    }
   ],
   "source": [
    "#La base de este programa está en la tarea 5 y 6 subidas la semana pasada. De hecho, esta estaba en ese programa.\n",
    "function simpson(a,b)\n",
    "    m=(b-a)/2\n",
    "    A=(m/3)*(f(a)+f(b)+(4*f(m)))\n",
    "    return A\n",
    "    \n",
    "end"
   ]
  },
  {
   "cell_type": "code",
   "execution_count": 2,
   "metadata": {
    "collapsed": false
   },
   "outputs": [
    {
     "data": {
      "text/plain": [
       "f (generic function with 1 method)"
      ]
     },
     "execution_count": 2,
     "metadata": {},
     "output_type": "execute_result"
    }
   ],
   "source": [
    "f(x)=(3/(4-x))"
   ]
  },
  {
   "cell_type": "code",
   "execution_count": 3,
   "metadata": {
    "collapsed": false
   },
   "outputs": [
    {
     "data": {
      "text/plain": [
       "2.083333333333333"
      ]
     },
     "execution_count": 3,
     "metadata": {},
     "output_type": "execute_result"
    }
   ],
   "source": [
    "simpson(0,2)"
   ]
  },
  {
   "cell_type": "code",
   "execution_count": 4,
   "metadata": {
    "collapsed": false
   },
   "outputs": [
    {
     "data": {
      "text/plain": [
       "0.0:0.6981317007977318:6.283185307179586"
      ]
     },
     "execution_count": 4,
     "metadata": {},
     "output_type": "execute_result"
    }
   ],
   "source": [
    "x=linspace(0,2*pi,10)"
   ]
  },
  {
   "cell_type": "markdown",
   "metadata": {},
   "source": [
    "Tarea 7.2 \n",
    "Crear el método del polinomio de lagrange.\n",
    "Hice pruebas para los siguientes códigos.\n",
    "conjuntoy me da la imagen del primer conjunto x; ie si f(x)=cos conjuntoy(x,f) me da cada elemento de x evaluado en f\n",
    "denominador(x) me sirve para calcular los denominadores de todas las L del polinomio de lagrande.\n",
    "numerador(x) aca es donde me entraron dudas; lo programé hasta 10 pero no me salió la prueba, entonces fui bajando ese número e hice la prueba con algunos.\n",
    "iter me da los valores de los coeficientes del polinomio de lagrange\n",
    "y la funcion polinomio ya me evalua lo que pide y grafica."
   ]
  },
  {
   "cell_type": "code",
   "execution_count": 5,
   "metadata": {
    "collapsed": false
   },
   "outputs": [
    {
     "data": {
      "text/plain": [
       "conjuntoy (generic function with 1 method)"
      ]
     },
     "execution_count": 5,
     "metadata": {},
     "output_type": "execute_result"
    }
   ],
   "source": [
    "function conjuntoy(x,f)\n",
    "    y=[]\n",
    "    Y=f(x)\n",
    "    push!(y,Y)\n",
    "end"
   ]
  },
  {
   "cell_type": "code",
   "execution_count": 6,
   "metadata": {
    "collapsed": false
   },
   "outputs": [
    {
     "data": {
      "text/plain": [
       "10-element Array{Array{Any,1},1}:\n",
       " Any[1.0]      \n",
       " Any[0.766044] \n",
       " Any[0.173648] \n",
       " Any[-0.5]     \n",
       " Any[-0.939693]\n",
       " Any[-0.939693]\n",
       " Any[-0.5]     \n",
       " Any[0.173648] \n",
       " Any[0.766044] \n",
       " Any[1.0]      "
      ]
     },
     "execution_count": 6,
     "metadata": {},
     "output_type": "execute_result"
    }
   ],
   "source": [
    "y=conjuntoy.(x,cos)"
   ]
  },
  {
   "cell_type": "code",
   "execution_count": 33,
   "metadata": {
    "collapsed": false
   },
   "outputs": [
    {
     "data": {
      "text/plain": [
       "denominador (generic function with 1 method)"
      ]
     },
     "execution_count": 33,
     "metadata": {},
     "output_type": "execute_result"
    }
   ],
   "source": [
    "function denominador(x)\n",
    "    N=length(x)\n",
    "    s=N*(N-1)\n",
    "    A=[] #A es un arreglo vacio donde voy a guardar los valores de las restas\n",
    "    D=[] #Es un arreglo vacio donde voy a guardar los valores de los denominadores\n",
    "    for i in 1:N #aqui es para ir variando los x[i]\n",
    "        d=1\n",
    "        for j in 1:N #aqui es para comparar y que no haya i=j\n",
    "            if j!=i #aqui hago esa comparación\n",
    "                a=x[i]-x[j] #sabemos que la fórmula para el polinomio de lagrange de x[i], multiplica la resta de los elementos\n",
    "                #x[i]-x[j] variando j y dejando fijo i. Por lo tanto para x[i] habrá n-1 valores de x[i]-x[j] donde n es\n",
    "                #la longitud del vector x\n",
    "                #println(\"(\",x[i],\" \",x[j],\")  \",a)\n",
    "                push!(A,a) #Voy a guardar los valores de estas restas, pero se van a guardar la de todos los valores x[i]\n",
    "                #es decir el vector A tendra N*N-1 elementos, N por la evaluacion de todas las x[i] y n-1 porque cada x[i] tiene \n",
    "                #n-1 restas.\n",
    "            end\n",
    "            #println(A)\n",
    "        end\n",
    "    end\n",
    "    for l in 1:N\n",
    "        d=1\n",
    "        cotinf=((N-1)*(l-1))+1\n",
    "        cotsup=((N-1)*l)\n",
    "        #println(A[cotinf],\"  \",A[cotsup])\n",
    "        for k in 1:s\n",
    "            if cotinf<=k && k<=cotsup\n",
    "                d=d*A[k]\n",
    "            end\n",
    "        end\n",
    "        push!(D,d)\n",
    "        #println(D)\n",
    "    end\n",
    "    D\n",
    "end"
   ]
  },
  {
   "cell_type": "code",
   "execution_count": 82,
   "metadata": {
    "collapsed": false
   },
   "outputs": [
    {
     "data": {
      "text/plain": [
       "numeradorpara3 (generic function with 1 method)"
      ]
     },
     "execution_count": 82,
     "metadata": {},
     "output_type": "execute_result"
    }
   ],
   "source": [
    "function numeradorpara3(r)\n",
    "    A=zeros(3,3)\n",
    "    N=length(r)\n",
    "    K1=[]\n",
    "    K2=[]\n",
    "    K3=[]\n",
    "    for i in 1:3\n",
    "        c=[]\n",
    "        for j in 1:3\n",
    "            if j!=i\n",
    "                #println(\"para esta \",r[i],\" las validas son \",r[j])\n",
    "                push!(c,r[j])\n",
    "            end\n",
    "        end\n",
    "        #println(c)\n",
    "        #Para los numeradores, se obtendran polinomios de grado N-1. \n",
    "            k1=(-c[1])*(-c[2]) #coefciente para x a la o\n",
    "        push!(K1,k1)\n",
    "            k2=(-c[1])+(-c[2]) #coeficiente para x a la 1\n",
    "        push!(K2,k2)\n",
    "            k3=1 #coeficiente para x al cuadrado\n",
    "        push!(K3,k3)\n",
    "    end\n",
    "A[1,1]=K3[1]\n",
    "    A[2,1]=K3[2]\n",
    "    A[3,1]=K3[3]\n",
    "    A[1,2]=K2[1]\n",
    "    A[2,2]=K2[2]\n",
    "    A[3,2]=K2[3]\n",
    "    A[1,3]=K1[1]\n",
    "    A[2,3]=K1[2]\n",
    "    A[3,3]=K1[3]\n",
    "    A\n",
    "end"
   ]
  },
  {
   "cell_type": "code",
   "execution_count": 83,
   "metadata": {
    "collapsed": false
   },
   "outputs": [
    {
     "data": {
      "text/plain": [
       "3-element Array{Int64,1}:\n",
       " 0\n",
       " 3\n",
       " 6"
      ]
     },
     "execution_count": 83,
     "metadata": {},
     "output_type": "execute_result"
    }
   ],
   "source": [
    "u=[0,3,6]\n",
    "    \n",
    "    "
   ]
  },
  {
   "cell_type": "code",
   "execution_count": 84,
   "metadata": {
    "collapsed": false
   },
   "outputs": [
    {
     "data": {
      "text/plain": [
       "3×3 Array{Float64,2}:\n",
       " 1.0  -9.0  18.0\n",
       " 1.0  -6.0   0.0\n",
       " 1.0  -3.0   0.0"
      ]
     },
     "execution_count": 84,
     "metadata": {},
     "output_type": "execute_result"
    }
   ],
   "source": [
    "A=numeradorpara3(u)"
   ]
  },
  {
   "cell_type": "code",
   "execution_count": 85,
   "metadata": {
    "collapsed": false
   },
   "outputs": [
    {
     "data": {
      "text/plain": [
       "3-element Array{Any,1}:\n",
       " 18\n",
       " -9\n",
       " 18"
      ]
     },
     "execution_count": 85,
     "metadata": {},
     "output_type": "execute_result"
    }
   ],
   "source": [
    "denominador(u)"
   ]
  },
  {
   "cell_type": "code",
   "execution_count": 86,
   "metadata": {
    "collapsed": false
   },
   "outputs": [
    {
     "name": "stdout",
     "output_type": "stream",
     "text": [
      "[1.0 -9.0 18.0; 1.0 -6.0 0.0; 1.0 -3.0 0.0]\n"
     ]
    }
   ],
   "source": [
    "println(A)"
   ]
  },
  {
   "cell_type": "code",
   "execution_count": 117,
   "metadata": {
    "collapsed": false
   },
   "outputs": [
    {
     "data": {
      "text/plain": [
       "iterpolacion (generic function with 1 method)"
      ]
     },
     "execution_count": 117,
     "metadata": {},
     "output_type": "execute_result"
    }
   ],
   "source": [
    "function iterpolacion(x,y)\n",
    "    D=denominador(x)\n",
    "    A=numeradorpara3(x)\n",
    "    cociente=[]\n",
    "    N0=[]\n",
    "    N1=[]\n",
    "    N2=[]\n",
    "    for i in 1:3\n",
    "        coc=y[i]/D[i] #esto es para calcular los cocientes de y/(xi-xj) con i distinto de j\n",
    "        push!(cociente,coc)\n",
    "    end\n",
    "    #println(cociente)\n",
    "    for j in 1:3 #aca multiplico estos cocientes por el polinomio obtenido de (x-xj)(x-xk) con j y k en el conjunto x y distintos de i\n",
    "        n2=cociente[j]*A[j,1]\n",
    "        push!(N2,n2)\n",
    "    n1=cociente[j]*A[j,2]\n",
    "    push!(N1,n1)\n",
    "       n0=cociente[j]*A[j,3]\n",
    "        push!(N0,n0)\n",
    "    end\n",
    "    a=sum(N2) #ya realiza la suma de los x2 x y x^0\n",
    "    b=sum(N1)\n",
    "    c=sum(N0)\n",
    "    println(\"el coeficiente para x cuadrada es \",a,\" para x es \",b,\" y la constantes es \",c)\n",
    "    println(\"por lo cual la función es \",a,\"x^2 + \",b,\"x + \",c)\n",
    "end"
   ]
  },
  {
   "cell_type": "code",
   "execution_count": 118,
   "metadata": {
    "collapsed": false
   },
   "outputs": [
    {
     "data": {
      "text/plain": [
       "3-element Array{Int64,1}:\n",
       " 7\n",
       " 7\n",
       " 6"
      ]
     },
     "execution_count": 118,
     "metadata": {},
     "output_type": "execute_result"
    }
   ],
   "source": [
    "v=[7,7,6]"
   ]
  },
  {
   "cell_type": "code",
   "execution_count": 119,
   "metadata": {
    "collapsed": false
   },
   "outputs": [
    {
     "name": "stdout",
     "output_type": "stream",
     "text": [
      "el coeficiente para x cuadrada es -0.05555555555555558 para x es 0.16666666666666696 y la constantes es 7.0\n",
      "por lo cual la función es -0.05555555555555558x^2 + 0.16666666666666696x + 7.0\n"
     ]
    }
   ],
   "source": [
    "iterpolacion(u,v)"
   ]
  },
  {
   "cell_type": "code",
   "execution_count": 123,
   "metadata": {
    "collapsed": false
   },
   "outputs": [
    {
     "data": {
      "text/plain": [
       "polinomio (generic function with 2 methods)"
      ]
     },
     "execution_count": 123,
     "metadata": {},
     "output_type": "execute_result"
    }
   ],
   "source": [
    "function polinomio(x,y,f)\n",
    "    scatter(x,y,color=\"red\")\n",
    "    scatter(x,f,color=\"green\")\n",
    "end"
   ]
  },
  {
   "cell_type": "code",
   "execution_count": 124,
   "metadata": {
    "collapsed": false
   },
   "outputs": [],
   "source": [
    "using PyPlot"
   ]
  },
  {
   "cell_type": "code",
   "execution_count": 125,
   "metadata": {
    "collapsed": false
   },
   "outputs": [
    {
     "data": {
      "text/plain": [
       "3-element Array{Float64,1}:\n",
       " 0.0    \n",
       " 3.14159\n",
       " 6.28319"
      ]
     },
     "execution_count": 125,
     "metadata": {},
     "output_type": "execute_result"
    }
   ],
   "source": [
    "r=[0,pi,2*pi]"
   ]
  },
  {
   "cell_type": "code",
   "execution_count": 126,
   "metadata": {
    "collapsed": false
   },
   "outputs": [
    {
     "data": {
      "text/plain": [
       "3-element Array{Array{Any,1},1}:\n",
       " Any[1.0] \n",
       " Any[-1.0]\n",
       " Any[1.0] "
      ]
     },
     "execution_count": 126,
     "metadata": {},
     "output_type": "execute_result"
    }
   ],
   "source": [
    "s=conjuntoy.(r,cos)"
   ]
  },
  {
   "cell_type": "code",
   "execution_count": 127,
   "metadata": {
    "collapsed": false
   },
   "outputs": [
    {
     "name": "stdout",
     "output_type": "stream",
     "text": [
      "el coeficiente para x cuadrada es [0.202642] para x es [-1.27324] y la constantes es [1.0]\n",
      "por lo cual la función es [0.202642]x^2 + [-1.27324]x + [1.0]\n"
     ]
    }
   ],
   "source": [
    "iterpolacion(r,s)"
   ]
  },
  {
   "cell_type": "code",
   "execution_count": 128,
   "metadata": {
    "collapsed": false
   },
   "outputs": [
    {
     "data": {
      "text/plain": [
       "polinomio1 (generic function with 1 method)"
      ]
     },
     "execution_count": 128,
     "metadata": {},
     "output_type": "execute_result"
    }
   ],
   "source": [
    "polinomio1(x)=(0.202642*x^2)-(1.27324*x)+1"
   ]
  },
  {
   "cell_type": "code",
   "execution_count": 131,
   "metadata": {
    "collapsed": false
   },
   "outputs": [
    {
     "data": {
      "text/plain": [
       "3-element Array{Float64,1}:\n",
       "  1.0     \n",
       " -1.00001 \n",
       "  0.999983"
      ]
     },
     "execution_count": 131,
     "metadata": {},
     "output_type": "execute_result"
    }
   ],
   "source": [
    "p1=polinomio1.(r)"
   ]
  },
  {
   "cell_type": "code",
   "execution_count": 132,
   "metadata": {
    "collapsed": false
   },
   "outputs": [
    {
     "data": {
      "image/png": "[encoded data removed]",
      "text/plain": [
       "PyPlot.Figure(PyObject <matplotlib.figure.Figure object at 0x7f2983642610>)"
      ]
     },
     "metadata": {},
     "output_type": "display_data"
    },
    {
     "data": {
      "text/plain": [
       "PyObject <matplotlib.collections.PathCollection object at 0x7f29835d4510>"
      ]
     },
     "execution_count": 132,
     "metadata": {},
     "output_type": "execute_result"
    }
   ],
   "source": [
    "polinomio(r,s,p1)"
   ]
  },
  {
   "cell_type": "code",
   "execution_count": 135,
   "metadata": {
    "collapsed": false
   },
   "outputs": [
    {
     "data": {
      "text/plain": [
       "coscuadrado (generic function with 1 method)"
      ]
     },
     "execution_count": 135,
     "metadata": {},
     "output_type": "execute_result"
    }
   ],
   "source": [
    "coscuadrado(x)=(cos(x)*cos(x))"
   ]
  },
  {
   "cell_type": "code",
   "execution_count": 138,
   "metadata": {
    "collapsed": false
   },
   "outputs": [
    {
     "data": {
      "text/plain": [
       "3-element Array{Array{Any,1},1}:\n",
       " Any[1.0]\n",
       " Any[1.0]\n",
       " Any[1.0]"
      ]
     },
     "execution_count": 138,
     "metadata": {},
     "output_type": "execute_result"
    }
   ],
   "source": [
    "s1=conjuntoy.(r,coscuadrado)"
   ]
  },
  {
   "cell_type": "code",
   "execution_count": 139,
   "metadata": {
    "collapsed": false
   },
   "outputs": [
    {
     "name": "stdout",
     "output_type": "stream",
     "text": [
      "el coeficiente para x cuadrada es [0.0] para x es [2.77556e-17] y la constantes es [1.0]\n",
      "por lo cual la función es [0.0]x^2 + [2.77556e-17]x + [1.0]\n"
     ]
    }
   ],
   "source": [
    "iterpolacion(r,s1)"
   ]
  },
  {
   "cell_type": "code",
   "execution_count": 144,
   "metadata": {
    "collapsed": false
   },
   "outputs": [
    {
     "data": {
      "text/plain": [
       "poli2 (generic function with 1 method)"
      ]
     },
     "execution_count": 144,
     "metadata": {},
     "output_type": "execute_result"
    }
   ],
   "source": [
    "poli2(x)=((2.7755e-17)*x)+1"
   ]
  },
  {
   "cell_type": "code",
   "execution_count": 145,
   "metadata": {
    "collapsed": false
   },
   "outputs": [
    {
     "data": {
      "text/plain": [
       "3-element Array{Float64,1}:\n",
       " 1.0\n",
       " 1.0\n",
       " 1.0"
      ]
     },
     "execution_count": 145,
     "metadata": {},
     "output_type": "execute_result"
    }
   ],
   "source": [
    "p2=poli2.(r)"
   ]
  },
  {
   "cell_type": "code",
   "execution_count": 146,
   "metadata": {
    "collapsed": false
   },
   "outputs": [
    {
     "data": {
      "image/png": "[encoded data removed]",
      "text/plain": [
       "PyPlot.Figure(PyObject <matplotlib.figure.Figure object at 0x7f2985b849d0>)"
      ]
     },
     "metadata": {},
     "output_type": "display_data"
    },
    {
     "data": {
      "text/plain": [
       "PyObject <matplotlib.collections.PathCollection object at 0x7f29834c8610>"
      ]
     },
     "execution_count": 146,
     "metadata": {},
     "output_type": "execute_result"
    }
   ],
   "source": [
    "polinomio(r,s1,p2)"
   ]
  },
  {
   "cell_type": "markdown",
   "metadata": {},
   "source": [
    "Aquí pongo el método para objetener los numeradores para N=10"
   ]
  },
  {
   "cell_type": "code",
   "execution_count": 147,
   "metadata": {
    "collapsed": false
   },
   "outputs": [
    {
     "data": {
      "text/plain": [
       "numerador10 (generic function with 1 method)"
      ]
     },
     "execution_count": 147,
     "metadata": {},
     "output_type": "execute_result"
    }
   ],
   "source": [
    "function numerador10(r)\n",
    "    N=length(r)\n",
    "    for i in 1:N\n",
    "        k=[]\n",
    "        c=[]\n",
    "        for j in 1:N\n",
    "            if j!=i\n",
    "                #println(\"para esta \",r[i],\" las validas son \",r[j])\n",
    "                push!(c,r[j])\n",
    "            end\n",
    "        end\n",
    "        #Para los numeradores, se obtendran polinomios de grado N-1. \n",
    "        if N==3\n",
    "            k[1]=c[1]*c[2]\n",
    "            k[2]=c[1]+c[2]\n",
    "            k[3]=1\n",
    "        end\n",
    "        if N==4\n",
    "            k[1]=c[1]*c[2]*c[3]\n",
    "            k[2]=(c[3]*(c[1]+c[2]))+(c[1]*c[2])\n",
    "            k[3]=c[1]+c[2]+c[3]\n",
    "            k[4]=1\n",
    "        end\n",
    "        if N==5\n",
    "            k[1]=c[4]*c[1]*c[2]*c[3]\n",
    "            k[2]=(c[1]*c[2]*c[3])+(c[4]*((c[3]*(c[1]+c[2]))+(c[1]*c[2])))\n",
    "            k[3]=((c[3]*(c[1]+c[2]))+(c[1]*c[2]))+(c[4]*(c[1]+c[2]+c[3]))\n",
    "            k[4]=c[1]+c[2]+c[3]+c[4]\n",
    "            k[5]=1\n",
    "        end\n",
    "        if N==6\n",
    "            k[1]=c[5]*c[4]*c[1]*c[2]*c[3]\n",
    "            k[2]=((c[4]*c[1]*c[2]*c[3])*(c[5]*(c[1]*c[2]*c[3])))+(c[4]*((c[3]*(c[1]+c[2]))+(c[1]*c[2])))\n",
    "            k[3]=((c[1]*c[2]*c[3])+(c[4]*((c[3]*(c[1]+c[2]))+(c[1]*c[2]))))+(c[5]*(((c[3]*(c[1]+c[2]))+(c[1]*c[2]))+(c[4]*(c[1]+c[2]+c[3]))))\n",
    "            k[4]=(((c[3]*(c[1]+c[2]))+(c[1]*c[2]))+(c[4]*(c[1]+c[2]+c[3])))+(c[5]*(c[1]+c[2]+c[3]+c[4]))\n",
    "            k[5]=c[4]+c[1]+c[2]+c[3]+c[5]\n",
    "            k[6]=1\n",
    "        end\n",
    "        if N==7\n",
    "            k[1]=c[5]*c[4]*c[1]*c[2]*c[3]*c[6]\n",
    "            k[2]=(c[5]*c[4]*c[1]*c[2]*c[3])+(c[6]*(((c[4]*c[1]*c[2]*c[3])*(c[5]*(c[1]*c[2]*c[3])))+(c[4]*((c[3]*(c[1]+c[2]))+(c[1]*c[2])))))\n",
    "            k[3]=(((c[4]*c[1]*c[2]*c[3])*(c[5]*(c[1]*c[2]*c[3])))+(c[4]*((c[3]*(c[1]+c[2]))+(c[1]*c[2]))))+(c[6]*(((c[1]*c[2]*c[3])+(c[4]*((c[3]*(c[1]+c[2]))+(c[1]*c[2]))))+(c[5]*(((c[3]*(c[1]+c[2]))+(c[1]*c[2]))+(c[4]*(c[1]+c[2]+c[3]))))))\n",
    "            k[4]=(((c[1]*c[2]*c[3])+(c[4]*((c[3]*(c[1]+c[2]))+(c[1]*c[2]))))+(c[5]*(((c[3]*(c[1]+c[2]))+(c[1]*c[2]))+(c[4]*(c[1]+c[2]+c[3])))))+(c[6]*((((c[3]*(c[1]+c[2]))+(c[1]*c[2]))+(c[4]*(c[1]+c[2]+c[3])))+(c[5]*(c[1]+c[2]+c[3]+c[4]))))\n",
    "            k[5]=((((c[3]*(c[1]+c[2]))+(c[1]*c[2]))+(c[4]*(c[1]+c[2]+c[3])))+(c[5]*(c[1]+c[2]+c[3]+c[4])))+(c[6]*(c[4]+c[1]+c[2]+c[3]+c[5]))\n",
    "            k[6]=c[4]+c[1]+c[2]+c[3]+c[5]+c[6]\n",
    "            k[7]=1\n",
    "        end\n",
    "        if N==8\n",
    "            k[1]=c[7]*c[5]*c[4]*c[1]*c[2]*c[3]*c[6]\n",
    "            k[2]=(c[5]*c[4]*c[1]*c[2]*c[3]*c[6])+(c[7]*(c[5]*c[4]*c[1]*c[2]*c[3])+(c[6]*(((c[4]*c[1]*c[2]*c[3])*(c[5]*(c[1]*c[2]*c[3])))+(c[4]*((c[3]*(c[1]+c[2]))+(c[1]*c[2]))))))\n",
    "            k[3]=((c[5]*c[4]*c[1]*c[2]*c[3])+(c[6]*(((c[4]*c[1]*c[2]*c[3])*(c[5]*(c[1]*c[2]*c[3])))+(c[4]*((c[3]*(c[1]+c[2]))+(c[1]*c[2]))))))+(c[7]*((((c[4]*c[1]*c[2]*c[3])*(c[5]*(c[1]*c[2]*c[3])))+(c[4]*((c[3]*(c[1]+c[2]))+(c[1]*c[2]))))+(c[6]*(((c[1]*c[2]*c[3])+(c[4]*((c[3]*(c[1]+c[2]))+(c[1]*c[2]))))+(c[5]*(((c[3]*(c[1]+c[2]))+(c[1]*c[2]))+(c[4]*(c[1]+c[2]+c[3]))))))))\n",
    "            k[4]=((((c[4]*c[1]*c[2]*c[3])*(c[5]*(c[1]*c[2]*c[3])))+(c[4]*((c[3]*(c[1]+c[2]))+(c[1]*c[2]))))+(c[6]*(((c[1]*c[2]*c[3])+(c[4]*((c[3]*(c[1]+c[2]))+(c[1]*c[2]))))+(c[5]*(((c[3]*(c[1]+c[2]))+(c[1]*c[2]))+(c[4]*(c[1]+c[2]+c[3])))))))+(c[7]*((((c[1]*c[2]*c[3])+(c[4]*((c[3]*(c[1]+c[2]))+(c[1]*c[2]))))+(c[5]*(((c[3]*(c[1]+c[2]))+(c[1]*c[2]))+(c[4]*(c[1]+c[2]+c[3])))))+(c[6]*((((c[3]*(c[1]+c[2]))+(c[1]*c[2]))+(c[4]*(c[1]+c[2]+c[3])))+(c[5]*(c[1]+c[2]+c[3]+c[4]))))))\n",
    "            k[5]=((((c[1]*c[2]*c[3])+(c[4]*((c[3]*(c[1]+c[2]))+(c[1]*c[2]))))+(c[5]*(((c[3]*(c[1]+c[2]))+(c[1]*c[2]))+(c[4]*(c[1]+c[2]+c[3])))))+(c[6]*((((c[3]*(c[1]+c[2]))+(c[1]*c[2]))+(c[4]*(c[1]+c[2]+c[3])))+(c[5]*(c[1]+c[2]+c[3]+c[4])))))+(c[7]*(((((c[3]*(c[1]+c[2]))+(c[1]*c[2]))+(c[4]*(c[1]+c[2]+c[3])))+(c[5]*(c[1]+c[2]+c[3]+c[4])))+(c[6]*(c[4]+c[1]+c[2]+c[3]+c[5]))))\n",
    "            k[6]=(((((c[3]*(c[1]+c[2]))+(c[1]*c[2]))+(c[4]*(c[1]+c[2]+c[3])))+(c[5]*(c[1]+c[2]+c[3]+c[4])))+(c[6]*(c[4]+c[1]+c[2]+c[3]+c[5])))+(c[7]*(c[4]+c[1]+c[2]+c[3]+c[5]+c[6]))\n",
    "            k[7]=c[4]+c[1]+c[2]+c[3]+c[5]+c[6]+c[7]\n",
    "            k[8]=1\n",
    "        end\n",
    "        if N==9\n",
    "        k[1]=c[7]*c[5]*c[4]*c[1]*c[2]*c[3]*c[6]*c[8]\n",
    "            k[2]=(c[7]*c[5]*c[4]*c[1]*c[2]*c[3]*c[6])+(c[8]*((c[5]*c[4]*c[1]*c[2]*c[3]*c[6])+(c[7]*(c[5]*c[4]*c[1]*c[2]*c[3])+(c[6]*(((c[4]*c[1]*c[2]*c[3])*(c[5]*(c[1]*c[2]*c[3])))+(c[4]*((c[3]*(c[1]+c[2]))+(c[1]*c[2]))))))))\n",
    "            k[3]=((c[5]*c[4]*c[1]*c[2]*c[3]*c[6])+(c[7]*(c[5]*c[4]*c[1]*c[2]*c[3])+(c[6]*(((c[4]*c[1]*c[2]*c[3])*(c[5]*(c[1]*c[2]*c[3])))+(c[4]*((c[3]*(c[1]+c[2]))+(c[1]*c[2])))))))+(c[8]*(((c[5]*c[4]*c[1]*c[2]*c[3])+(c[6]*(((c[4]*c[1]*c[2]*c[3])*(c[5]*(c[1]*c[2]*c[3])))+(c[4]*((c[3]*(c[1]+c[2]))+(c[1]*c[2]))))))+(c[7]*((((c[4]*c[1]*c[2]*c[3])*(c[5]*(c[1]*c[2]*c[3])))+(c[4]*((c[3]*(c[1]+c[2]))+(c[1]*c[2]))))+(c[6]*(((c[1]*c[2]*c[3])+(c[4]*((c[3]*(c[1]+c[2]))+(c[1]*c[2]))))+(c[5]*(((c[3]*(c[1]+c[2]))+(c[1]*c[2]))+(c[4]*(c[1]+c[2]+c[3]))))))))))\n",
    "            k[4]=(((c[5]*c[4]*c[1]*c[2]*c[3])+(c[6]*(((c[4]*c[1]*c[2]*c[3])*(c[5]*(c[1]*c[2]*c[3])))+(c[4]*((c[3]*(c[1]+c[2]))+(c[1]*c[2]))))))+(c[7]*((((c[4]*c[1]*c[2]*c[3])*(c[5]*(c[1]*c[2]*c[3])))+(c[4]*((c[3]*(c[1]+c[2]))+(c[1]*c[2]))))+(c[6]*(((c[1]*c[2]*c[3])+(c[4]*((c[3]*(c[1]+c[2]))+(c[1]*c[2]))))+(c[5]*(((c[3]*(c[1]+c[2]))+(c[1]*c[2]))+(c[4]*(c[1]+c[2]+c[3])))))))))+(c[8]*(((((c[4]*c[1]*c[2]*c[3])*(c[5]*(c[1]*c[2]*c[3])))+(c[4]*((c[3]*(c[1]+c[2]))+(c[1]*c[2]))))+(c[6]*(((c[1]*c[2]*c[3])+(c[4]*((c[3]*(c[1]+c[2]))+(c[1]*c[2]))))+(c[5]*(((c[3]*(c[1]+c[2]))+(c[1]*c[2]))+(c[4]*(c[1]+c[2]+c[3])))))))+(c[7]*((((c[1]*c[2]*c[3])+(c[4]*((c[3]*(c[1]+c[2]))+(c[1]*c[2]))))+(c[5]*(((c[3]*(c[1]+c[2]))+(c[1]*c[2]))+(c[4]*(c[1]+c[2]+c[3])))))+(c[6]*((((c[3]*(c[1]+c[2]))+(c[1]*c[2]))+(c[4]*(c[1]+c[2]+c[3])))+(c[5]*(c[1]+c[2]+c[3]+c[4]))))))))\n",
    "            k[5]=(((((c[4]*c[1]*c[2]*c[3])*(c[5]*(c[1]*c[2]*c[3])))+(c[4]*((c[3]*(c[1]+c[2]))+(c[1]*c[2]))))+(c[6]*(((c[1]*c[2]*c[3])+(c[4]*((c[3]*(c[1]+c[2]))+(c[1]*c[2]))))+(c[5]*(((c[3]*(c[1]+c[2]))+(c[1]*c[2]))+(c[4]*(c[1]+c[2]+c[3])))))))+(c[7]*((((c[1]*c[2]*c[3])+(c[4]*((c[3]*(c[1]+c[2]))+(c[1]*c[2]))))+(c[5]*(((c[3]*(c[1]+c[2]))+(c[1]*c[2]))+(c[4]*(c[1]+c[2]+c[3])))))+(c[6]*((((c[3]*(c[1]+c[2]))+(c[1]*c[2]))+(c[4]*(c[1]+c[2]+c[3])))+(c[5]*(c[1]+c[2]+c[3]+c[4])))))))+(c[8]*(((((c[1]*c[2]*c[3])+(c[4]*((c[3]*(c[1]+c[2]))+(c[1]*c[2]))))+(c[5]*(((c[3]*(c[1]+c[2]))+(c[1]*c[2]))+(c[4]*(c[1]+c[2]+c[3])))))+(c[6]*((((c[3]*(c[1]+c[2]))+(c[1]*c[2]))+(c[4]*(c[1]+c[2]+c[3])))+(c[5]*(c[1]+c[2]+c[3]+c[4])))))+(c[7]*(((((c[3]*(c[1]+c[2]))+(c[1]*c[2]))+(c[4]*(c[1]+c[2]+c[3])))+(c[5]*(c[1]+c[2]+c[3]+c[4])))+(c[6]*(c[4]+c[1]+c[2]+c[3]+c[5]))))))\n",
    "            k[6]=(((((c[1]*c[2]*c[3])+(c[4]*((c[3]*(c[1]+c[2]))+(c[1]*c[2]))))+(c[5]*(((c[3]*(c[1]+c[2]))+(c[1]*c[2]))+(c[4]*(c[1]+c[2]+c[3])))))+(c[6]*((((c[3]*(c[1]+c[2]))+(c[1]*c[2]))+(c[4]*(c[1]+c[2]+c[3])))+(c[5]*(c[1]+c[2]+c[3]+c[4])))))+(c[7]*(((((c[3]*(c[1]+c[2]))+(c[1]*c[2]))+(c[4]*(c[1]+c[2]+c[3])))+(c[5]*(c[1]+c[2]+c[3]+c[4])))+(c[6]*(c[4]+c[1]+c[2]+c[3]+c[5])))))+(c[8]*((((((c[3]*(c[1]+c[2]))+(c[1]*c[2]))+(c[4]*(c[1]+c[2]+c[3])))+(c[5]*(c[1]+c[2]+c[3]+c[4])))+(c[6]*(c[4]+c[1]+c[2]+c[3]+c[5])))+(c[7]*(c[4]+c[1]+c[2]+c[3]+c[5]+c[6]))))\n",
    "            k[7]=((((((c[3]*(c[1]+c[2]))+(c[1]*c[2]))+(c[4]*(c[1]+c[2]+c[3])))+(c[5]*(c[1]+c[2]+c[3]+c[4])))+(c[6]*(c[4]+c[1]+c[2]+c[3]+c[5])))+(c[7]*(c[4]+c[1]+c[2]+c[3]+c[5]+c[6])))+(c[8]*(c[4]+c[1]+c[2]+c[3]+c[5]+c[6]+c[7]))\n",
    "            k[8]=c[4]+c[1]+c[2]+c[3]+c[5]+c[6]+c[7]+c[8]\n",
    "            k[9]=1\n",
    "        end\n",
    "        if N==10\n",
    "            k[1]=c[7]*c[5]*c[4]*c[1]*c[2]*c[3]*c[6]*c[8]*c[9]\n",
    "            k[2]=(c[7]*c[5]*c[4]*c[1]*c[2]*c[3]*c[6]*c[8])+(c[9]*((c[7]*c[5]*c[4]*c[1]*c[2]*c[3]*c[6])+(c[8]*((c[5]*c[4]*c[1]*c[2]*c[3]*c[6])+(c[7]*(c[5]*c[4]*c[1]*c[2]*c[3])+(c[6]*(((c[4]*c[1]*c[2]*c[3])*(c[5]*(c[1]*c[2]*c[3])))+(c[4]*((c[3]*(c[1]+c[2]))+(c[1]*c[2]))))))))))\n",
    "            k[3]=((c[7]*c[5]*c[4]*c[1]*c[2]*c[3]*c[6])+(c[8]*((c[5]*c[4]*c[1]*c[2]*c[3]*c[6])+(c[7]*(c[5]*c[4]*c[1]*c[2]*c[3])+(c[6]*(((c[4]*c[1]*c[2]*c[3])*(c[5]*(c[1]*c[2]*c[3])))+(c[4]*((c[3]*(c[1]+c[2]))+(c[1]*c[2])))))))))+(c[9]*(((c[5]*c[4]*c[1]*c[2]*c[3]*c[6])+(c[7]*(c[5]*c[4]*c[1]*c[2]*c[3])+(c[6]*(((c[4]*c[1]*c[2]*c[3])*(c[5]*(c[1]*c[2]*c[3])))+(c[4]*((c[3]*(c[1]+c[2]))+(c[1]*c[2])))))))+(c[8]*(((c[5]*c[4]*c[1]*c[2]*c[3])+(c[6]*(((c[4]*c[1]*c[2]*c[3])*(c[5]*(c[1]*c[2]*c[3])))+(c[4]*((c[3]*(c[1]+c[2]))+(c[1]*c[2]))))))+(c[7]*((((c[4]*c[1]*c[2]*c[3])*(c[5]*(c[1]*c[2]*c[3])))+(c[4]*((c[3]*(c[1]+c[2]))+(c[1]*c[2]))))+(c[6]*(((c[1]*c[2]*c[3])+(c[4]*((c[3]*(c[1]+c[2]))+(c[1]*c[2]))))+(c[5]*(((c[3]*(c[1]+c[2]))+(c[1]*c[2]))+(c[4]*(c[1]+c[2]+c[3]))))))))))))\n",
    "            k[4]=(((c[5]*c[4]*c[1]*c[2]*c[3]*c[6])+(c[7]*(c[5]*c[4]*c[1]*c[2]*c[3])+(c[6]*(((c[4]*c[1]*c[2]*c[3])*(c[5]*(c[1]*c[2]*c[3])))+(c[4]*((c[3]*(c[1]+c[2]))+(c[1]*c[2])))))))+(c[8]*(((c[5]*c[4]*c[1]*c[2]*c[3])+(c[6]*(((c[4]*c[1]*c[2]*c[3])*(c[5]*(c[1]*c[2]*c[3])))+(c[4]*((c[3]*(c[1]+c[2]))+(c[1]*c[2]))))))+(c[7]*((((c[4]*c[1]*c[2]*c[3])*(c[5]*(c[1]*c[2]*c[3])))+(c[4]*((c[3]*(c[1]+c[2]))+(c[1]*c[2]))))+(c[6]*(((c[1]*c[2]*c[3])+(c[4]*((c[3]*(c[1]+c[2]))+(c[1]*c[2]))))+(c[5]*(((c[3]*(c[1]+c[2]))+(c[1]*c[2]))+(c[4]*(c[1]+c[2]+c[3])))))))))))+(c[9]*((((c[5]*c[4]*c[1]*c[2]*c[3])+(c[6]*(((c[4]*c[1]*c[2]*c[3])*(c[5]*(c[1]*c[2]*c[3])))+(c[4]*((c[3]*(c[1]+c[2]))+(c[1]*c[2]))))))+(c[7]*((((c[4]*c[1]*c[2]*c[3])*(c[5]*(c[1]*c[2]*c[3])))+(c[4]*((c[3]*(c[1]+c[2]))+(c[1]*c[2]))))+(c[6]*(((c[1]*c[2]*c[3])+(c[4]*((c[3]*(c[1]+c[2]))+(c[1]*c[2]))))+(c[5]*(((c[3]*(c[1]+c[2]))+(c[1]*c[2]))+(c[4]*(c[1]+c[2]+c[3])))))))))+(c[8]*(((((c[4]*c[1]*c[2]*c[3])*(c[5]*(c[1]*c[2]*c[3])))+(c[4]*((c[3]*(c[1]+c[2]))+(c[1]*c[2]))))+(c[6]*(((c[1]*c[2]*c[3])+(c[4]*((c[3]*(c[1]+c[2]))+(c[1]*c[2]))))+(c[5]*(((c[3]*(c[1]+c[2]))+(c[1]*c[2]))+(c[4]*(c[1]+c[2]+c[3])))))))+(c[7]*((((c[1]*c[2]*c[3])+(c[4]*((c[3]*(c[1]+c[2]))+(c[1]*c[2]))))+(c[5]*(((c[3]*(c[1]+c[2]))+(c[1]*c[2]))+(c[4]*(c[1]+c[2]+c[3])))))+(c[6]*((((c[3]*(c[1]+c[2]))+(c[1]*c[2]))+(c[4]*(c[1]+c[2]+c[3])))+(c[5]*(c[1]+c[2]+c[3]+c[4]))))))))))\n",
    "            k[5]=((((c[5]*c[4]*c[1]*c[2]*c[3])+(c[6]*(((c[4]*c[1]*c[2]*c[3])*(c[5]*(c[1]*c[2]*c[3])))+(c[4]*((c[3]*(c[1]+c[2]))+(c[1]*c[2]))))))+(c[7]*((((c[4]*c[1]*c[2]*c[3])*(c[5]*(c[1]*c[2]*c[3])))+(c[4]*((c[3]*(c[1]+c[2]))+(c[1]*c[2]))))+(c[6]*(((c[1]*c[2]*c[3])+(c[4]*((c[3]*(c[1]+c[2]))+(c[1]*c[2]))))+(c[5]*(((c[3]*(c[1]+c[2]))+(c[1]*c[2]))+(c[4]*(c[1]+c[2]+c[3])))))))))+(c[8]*(((((c[4]*c[1]*c[2]*c[3])*(c[5]*(c[1]*c[2]*c[3])))+(c[4]*((c[3]*(c[1]+c[2]))+(c[1]*c[2]))))+(c[6]*(((c[1]*c[2]*c[3])+(c[4]*((c[3]*(c[1]+c[2]))+(c[1]*c[2]))))+(c[5]*(((c[3]*(c[1]+c[2]))+(c[1]*c[2]))+(c[4]*(c[1]+c[2]+c[3])))))))+(c[7]*((((c[1]*c[2]*c[3])+(c[4]*((c[3]*(c[1]+c[2]))+(c[1]*c[2]))))+(c[5]*(((c[3]*(c[1]+c[2]))+(c[1]*c[2]))+(c[4]*(c[1]+c[2]+c[3])))))+(c[6]*((((c[3]*(c[1]+c[2]))+(c[1]*c[2]))+(c[4]*(c[1]+c[2]+c[3])))+(c[5]*(c[1]+c[2]+c[3]+c[4])))))))))+(c[9]*((((((c[4]*c[1]*c[2]*c[3])*(c[5]*(c[1]*c[2]*c[3])))+(c[4]*((c[3]*(c[1]+c[2]))+(c[1]*c[2]))))+(c[6]*(((c[1]*c[2]*c[3])+(c[4]*((c[3]*(c[1]+c[2]))+(c[1]*c[2]))))+(c[5]*(((c[3]*(c[1]+c[2]))+(c[1]*c[2]))+(c[4]*(c[1]+c[2]+c[3])))))))+(c[7]*((((c[1]*c[2]*c[3])+(c[4]*((c[3]*(c[1]+c[2]))+(c[1]*c[2]))))+(c[5]*(((c[3]*(c[1]+c[2]))+(c[1]*c[2]))+(c[4]*(c[1]+c[2]+c[3])))))+(c[6]*((((c[3]*(c[1]+c[2]))+(c[1]*c[2]))+(c[4]*(c[1]+c[2]+c[3])))+(c[5]*(c[1]+c[2]+c[3]+c[4])))))))+(c[8]*(((((c[1]*c[2]*c[3])+(c[4]*((c[3]*(c[1]+c[2]))+(c[1]*c[2]))))+(c[5]*(((c[3]*(c[1]+c[2]))+(c[1]*c[2]))+(c[4]*(c[1]+c[2]+c[3])))))+(c[6]*((((c[3]*(c[1]+c[2]))+(c[1]*c[2]))+(c[4]*(c[1]+c[2]+c[3])))+(c[5]*(c[1]+c[2]+c[3]+c[4])))))+(c[7]*(((((c[3]*(c[1]+c[2]))+(c[1]*c[2]))+(c[4]*(c[1]+c[2]+c[3])))+(c[5]*(c[1]+c[2]+c[3]+c[4])))+(c[6]*(c[4]+c[1]+c[2]+c[3]+c[5]))))))))\n",
    "            k[6]=((((((c[4]*c[1]*c[2]*c[3])*(c[5]*(c[1]*c[2]*c[3])))+(c[4]*((c[3]*(c[1]+c[2]))+(c[1]*c[2]))))+(c[6]*(((c[1]*c[2]*c[3])+(c[4]*((c[3]*(c[1]+c[2]))+(c[1]*c[2]))))+(c[5]*(((c[3]*(c[1]+c[2]))+(c[1]*c[2]))+(c[4]*(c[1]+c[2]+c[3])))))))+(c[7]*((((c[1]*c[2]*c[3])+(c[4]*((c[3]*(c[1]+c[2]))+(c[1]*c[2]))))+(c[5]*(((c[3]*(c[1]+c[2]))+(c[1]*c[2]))+(c[4]*(c[1]+c[2]+c[3])))))+(c[6]*((((c[3]*(c[1]+c[2]))+(c[1]*c[2]))+(c[4]*(c[1]+c[2]+c[3])))+(c[5]*(c[1]+c[2]+c[3]+c[4])))))))+(c[8]*(((((c[1]*c[2]*c[3])+(c[4]*((c[3]*(c[1]+c[2]))+(c[1]*c[2]))))+(c[5]*(((c[3]*(c[1]+c[2]))+(c[1]*c[2]))+(c[4]*(c[1]+c[2]+c[3])))))+(c[6]*((((c[3]*(c[1]+c[2]))+(c[1]*c[2]))+(c[4]*(c[1]+c[2]+c[3])))+(c[5]*(c[1]+c[2]+c[3]+c[4])))))+(c[7]*(((((c[3]*(c[1]+c[2]))+(c[1]*c[2]))+(c[4]*(c[1]+c[2]+c[3])))+(c[5]*(c[1]+c[2]+c[3]+c[4])))+(c[6]*(c[4]+c[1]+c[2]+c[3]+c[5])))))))+(c[9]*((((((c[1]*c[2]*c[3])+(c[4]*((c[3]*(c[1]+c[2]))+(c[1]*c[2]))))+(c[5]*(((c[3]*(c[1]+c[2]))+(c[1]*c[2]))+(c[4]*(c[1]+c[2]+c[3])))))+(c[6]*((((c[3]*(c[1]+c[2]))+(c[1]*c[2]))+(c[4]*(c[1]+c[2]+c[3])))+(c[5]*(c[1]+c[2]+c[3]+c[4])))))+(c[7]*(((((c[3]*(c[1]+c[2]))+(c[1]*c[2]))+(c[4]*(c[1]+c[2]+c[3])))+(c[5]*(c[1]+c[2]+c[3]+c[4])))+(c[6]*(c[4]+c[1]+c[2]+c[3]+c[5])))))+(c[8]*((((((c[3]*(c[1]+c[2]))+(c[1]*c[2]))+(c[4]*(c[1]+c[2]+c[3])))+(c[5]*(c[1]+c[2]+c[3]+c[4])))+(c[6]*(c[4]+c[1]+c[2]+c[3]+c[5])))+(c[7]*(c[4]+c[1]+c[2]+c[3]+c[5]+c[6]))))))\n",
    "            k[7]=((((((c[1]*c[2]*c[3])+(c[4]*((c[3]*(c[1]+c[2]))+(c[1]*c[2]))))+(c[5]*(((c[3]*(c[1]+c[2]))+(c[1]*c[2]))+(c[4]*(c[1]+c[2]+c[3])))))+(c[6]*((((c[3]*(c[1]+c[2]))+(c[1]*c[2]))+(c[4]*(c[1]+c[2]+c[3])))+(c[5]*(c[1]+c[2]+c[3]+c[4])))))+(c[7]*(((((c[3]*(c[1]+c[2]))+(c[1]*c[2]))+(c[4]*(c[1]+c[2]+c[3])))+(c[5]*(c[1]+c[2]+c[3]+c[4])))+(c[6]*(c[4]+c[1]+c[2]+c[3]+c[5])))))+(c[8]*((((((c[3]*(c[1]+c[2]))+(c[1]*c[2]))+(c[4]*(c[1]+c[2]+c[3])))+(c[5]*(c[1]+c[2]+c[3]+c[4])))+(c[6]*(c[4]+c[1]+c[2]+c[3]+c[5])))+(c[7]*(c[4]+c[1]+c[2]+c[3]+c[5]+c[6])))))+(c[9]*(((((((c[3]*(c[1]+c[2]))+(c[1]*c[2]))+(c[4]*(c[1]+c[2]+c[3])))+(c[5]*(c[1]+c[2]+c[3]+c[4])))+(c[6]*(c[4]+c[1]+c[2]+c[3]+c[5])))+(c[7]*(c[4]+c[1]+c[2]+c[3]+c[5]+c[6])))+(c[8]*(c[4]+c[1]+c[2]+c[3]+c[5]+c[6]+c[7]))))\n",
    "            k[8]=(((((((c[3]*(c[1]+c[2]))+(c[1]*c[2]))+(c[4]*(c[1]+c[2]+c[3])))+(c[5]*(c[1]+c[2]+c[3]+c[4])))+(c[6]*(c[4]+c[1]+c[2]+c[3]+c[5])))+(c[7]*(c[4]+c[1]+c[2]+c[3]+c[5]+c[6])))+(c[8]*(c[4]+c[1]+c[2]+c[3]+c[5]+c[6]+c[7])))+(c[9]*(c[4]+c[1]+c[2]+c[3]+c[5]+c[6]+c[7]+c[8]))\n",
    "            k[9]=c[4]+c[1]+c[2]+c[3]+c[5]+c[6]+c[7]+c[8]+c[9]\n",
    "            k[10]=1\n",
    "        end\n",
    "        println(k)\n",
    "    end\n",
    "end"
   ]
  },
  {
   "cell_type": "code",
   "execution_count": 160,
   "metadata": {
    "collapsed": false
   },
   "outputs": [
    {
     "data": {
      "text/plain": [
       "numeradorpara7 (generic function with 1 method)"
      ]
     },
     "execution_count": 160,
     "metadata": {},
     "output_type": "execute_result"
    }
   ],
   "source": [
    "function numeradorpara7(r)\n",
    "    A=zeros(7,7)\n",
    "    N=length(r)\n",
    "    K1=[]\n",
    "    K2=[]\n",
    "    K3=[]\n",
    "    K4=[]\n",
    "    K5=[]\n",
    "    K6=[]\n",
    "    K7=[]\n",
    "    for i in 1:7\n",
    "        c=[]\n",
    "        for j in 1:7\n",
    "            if j!=i\n",
    "                #println(\"para esta \",r[i],\" las validas son \",r[j])\n",
    "                push!(c,(-r[j]))\n",
    "            end\n",
    "        end\n",
    "        println(c)\n",
    "        #Para los numeradores, se obtendran polinomios de grado N-1. \n",
    "            k1=c[5]*c[4]*c[1]*c[2]*c[3]*c[6] #coefciente para x a la o\n",
    "        push!(K1,k1)\n",
    "            k2=(c[5]*c[4]*c[1]*c[2]*c[3])+(c[6]*(((c[4]*c[1]*c[2]*c[3])*(c[5]*(c[1]*c[2]*c[3])))+(c[4]*((c[3]*(c[1]+c[2]))+(c[1]*c[2]))))) #coeficiente para x a la 1\n",
    "        push!(K2,k2)\n",
    "            k3=(((c[4]*c[1]*c[2]*c[3])*(c[5]*(c[1]*c[2]*c[3])))+(c[4]*((c[3]*(c[1]+c[2]))+(c[1]*c[2]))))+(c[6]*(((c[1]*c[2]*c[3])+(c[4]*((c[3]*(c[1]+c[2]))+(c[1]*c[2]))))+(c[5]*(((c[3]*(c[1]+c[2]))+(c[1]*c[2]))+(c[4]*(c[1]+c[2]+c[3])))))) #coeficiente para x al cuadrado\n",
    "        push!(K3,k3)\n",
    "        k4=(((c[1]*c[2]*c[3])+(c[4]*((c[3]*(c[1]+c[2]))+(c[1]*c[2]))))+(c[5]*(((c[3]*(c[1]+c[2]))+(c[1]*c[2]))+(c[4]*(c[1]+c[2]+c[3])))))+(c[6]*((((c[3]*(c[1]+c[2]))+(c[1]*c[2]))+(c[4]*(c[1]+c[2]+c[3])))+(c[5]*(c[1]+c[2]+c[3]+c[4]))))\n",
    "        push!(K4,k4)\n",
    "            k5=((((c[3]*(c[1]+c[2]))+(c[1]*c[2]))+(c[4]*(c[1]+c[2]+c[3])))+(c[5]*(c[1]+c[2]+c[3]+c[4])))+(c[6]*(c[4]+c[1]+c[2]+c[3]+c[5]))\n",
    "        push!(K5,k5)\n",
    "            k6=c[4]+c[1]+c[2]+c[3]+c[5]+c[6]\n",
    "        push!(K6,k6)\n",
    "            k7=1\n",
    "        push!(K7,k7)\n",
    "    end\n",
    "for h in 1:7\n",
    "        for u in 1:7\n",
    "            if u==1\n",
    "                S=K7\n",
    "            end\n",
    "            if u==2\n",
    "                S=K6\n",
    "            end\n",
    "            if u==3\n",
    "                S=K5\n",
    "            end\n",
    "            if u==4\n",
    "                S=K4\n",
    "            end\n",
    "            if u==5\n",
    "                S=K3\n",
    "            end\n",
    "            if u==6\n",
    "                S=K2\n",
    "            end\n",
    "            if u==7\n",
    "                S=K1\n",
    "            end\n",
    "            A[h,u]=S[h]\n",
    "        end\n",
    "    end\n",
    "    println(A)\n",
    "end"
   ]
  },
  {
   "cell_type": "code",
   "execution_count": 161,
   "metadata": {
    "collapsed": false
   },
   "outputs": [
    {
     "data": {
      "text/plain": [
       "7-element Array{Int64,1}:\n",
       " 0\n",
       " 2\n",
       " 3\n",
       " 4\n",
       " 5\n",
       " 6\n",
       " 7"
      ]
     },
     "execution_count": 161,
     "metadata": {},
     "output_type": "execute_result"
    }
   ],
   "source": [
    "rst=[0,2,3,4,5,6,7]"
   ]
  },
  {
   "cell_type": "code",
   "execution_count": 162,
   "metadata": {
    "collapsed": false
   },
   "outputs": [
    {
     "data": {
      "text/plain": [
       "7-element Array{Int64,1}:\n",
       "  10\n",
       " -10\n",
       "  -4\n",
       "   0\n",
       "   5\n",
       "  20\n",
       "  -1"
      ]
     },
     "execution_count": 162,
     "metadata": {},
     "output_type": "execute_result"
    }
   ],
   "source": [
    "yrst=[10,-10,-4,0,5,20,-1]"
   ]
  },
  {
   "cell_type": "markdown",
   "metadata": {},
   "source": [
    "Por ultimo, el ultimo ejercicio lo hice en la tarea 6 que esel comprobar los metodos de integracion con la integral exacta."
   ]
  },
  {
   "cell_type": "code",
   "execution_count": null,
   "metadata": {
    "collapsed": true
   },
   "outputs": [],
   "source": []
  }
 ],
 "metadata": {
  "kernelspec": {
   "display_name": "Julia 0.6.0",
   "language": "julia",
   "name": "julia-0.6"
  },
  "language_info": {
   "file_extension": ".jl",
   "mimetype": "application/julia",
   "name": "julia",
   "version": "0.6.0"
  }
 },
 "nbformat": 4,
 "nbformat_minor": 2
}
